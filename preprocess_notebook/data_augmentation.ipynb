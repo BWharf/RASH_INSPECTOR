{
 "cells": [
  {
   "cell_type": "markdown",
   "metadata": {},
   "source": [
    "# How to Augmentation Images in Folder"
   ]
  },
  {
   "cell_type": "markdown",
   "metadata": {},
   "source": [
    "* We will use Augmentor library, this is a great library for augmentation.\n",
    "* You can install by pip(3) install Augmentor\n",
    "* You can find the original repository in this link: https://github.com/mdbloice/Augmentor."
   ]
  },
  {
   "cell_type": "markdown",
   "metadata": {},
   "source": [
    "# Import Libraries"
   ]
  },
  {
   "cell_type": "code",
   "execution_count": 22,
   "metadata": {},
   "outputs": [],
   "source": [
    "import Augmentor"
   ]
  },
  {
   "cell_type": "markdown",
   "metadata": {},
   "source": [
    "# Enter the Original Folder Path"
   ]
  },
  {
   "cell_type": "code",
   "execution_count": 23,
   "metadata": {},
   "outputs": [
    {
     "name": "stdout",
     "output_type": "stream",
     "text": [
      "Initialised with 18 image(s) found.\n",
      "Output directory set to /Users/waranthornchansawang/Desktop/RASH_INSPECTOR/Dataset/ORGAN/step2_selected_data/arm/Other/output."
     ]
    }
   ],
   "source": [
    "augmented_images = Augmentor.Pipeline('/Users/waranthornchansawang/Desktop/RASH_INSPECTOR/Dataset/ORGAN/step2_selected_data/arm/Other')"
   ]
  },
  {
   "cell_type": "markdown",
   "metadata": {},
   "source": [
    "# Operation"
   ]
  },
  {
   "cell_type": "code",
   "execution_count": 24,
   "metadata": {},
   "outputs": [],
   "source": [
    "augmented_images.resize(probability=0.999, width=224, height=224)\n",
    "augmented_images.rotate90(probability=0.999)\n",
    "augmented_images.rotate180(probability=0.999)\n",
    "augmented_images.rotate270(probability=0.999)\n",
    "augmented_images.random_brightness(probability=0.999, min_factor=0.7, max_factor=0.9)\n",
    "augmented_images.flip_left_right(probability=0.999)\n",
    "augmented_images.flip_top_bottom(probability=0.999)\n",
    "#augmented_images.zoom(probability=1, min_factor=1.1, max_factor=1.1)\n",
    "#augmented_images.zoom(probability=1, min_factor=1.25, max_factor=1.25)"
   ]
  },
  {
   "cell_type": "markdown",
   "metadata": {},
   "source": [
    "# Number Images That You Want"
   ]
  },
  {
   "cell_type": "code",
   "execution_count": 25,
   "metadata": {},
   "outputs": [
    {
     "name": "stderr",
     "output_type": "stream",
     "text": [
      "Processing <PIL.Image.Image image mode=RGB size=224x224 at 0x11DDA2D50>: 100%|██████████| 126/126 [00:00<00:00, 182.66 Samples/s]\n"
     ]
    }
   ],
   "source": [
    "augmented_images.sample(126)"
   ]
  },
  {
   "cell_type": "code",
   "execution_count": null,
   "metadata": {},
   "outputs": [],
   "source": []
  }
 ],
 "metadata": {
  "kernelspec": {
   "display_name": "Python 3",
   "language": "python",
   "name": "python3"
  },
  "language_info": {
   "codemirror_mode": {
    "name": "ipython",
    "version": 3
   },
   "file_extension": ".py",
   "mimetype": "text/x-python",
   "name": "python",
   "nbconvert_exporter": "python",
   "pygments_lexer": "ipython3",
   "version": "3.7.4"
  }
 },
 "nbformat": 4,
 "nbformat_minor": 4
}
