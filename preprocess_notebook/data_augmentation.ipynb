{
 "cells": [
  {
   "cell_type": "markdown",
   "metadata": {},
   "source": [
    "# How to Augmentation Images in Folder"
   ]
  },
  {
   "cell_type": "markdown",
   "metadata": {},
   "source": [
    "* We will use Augmentor library, this is a great library for augmentation.\n",
    "* You can install by pip(3) install Augmentor\n",
    "* You can find the original repository in this link: https://github.com/mdbloice/Augmentor."
   ]
  },
  {
   "cell_type": "markdown",
   "metadata": {},
   "source": [
    "# Import Libraries"
   ]
  },
  {
   "cell_type": "code",
   "execution_count": 6,
   "metadata": {},
   "outputs": [],
   "source": [
    "import Augmentor"
   ]
  },
  {
   "cell_type": "markdown",
   "metadata": {},
   "source": [
    "# Enter the Original Folder Path"
   ]
  },
  {
   "cell_type": "code",
   "execution_count": 15,
   "metadata": {},
   "outputs": [
    {
     "name": "stdout",
     "output_type": "stream",
     "text": [
      "Initialised with 138 image(s) found.\n",
      "Output directory set to /Users/waranthornchansawang/Desktop/RASH_INSPECTOR/Dataset/classes_data/Allergy/AtopicDermatitis/output."
     ]
    }
   ],
   "source": [
    "augmented_images = Augmentor.Pipeline('/Users/waranthornchansawang/Desktop/RASH_INSPECTOR/Dataset/classes_data/Allergy/AtopicDermatitis')"
   ]
  },
  {
   "cell_type": "markdown",
   "metadata": {},
   "source": [
    "# Operation"
   ]
  },
  {
   "cell_type": "code",
   "execution_count": 16,
   "metadata": {},
   "outputs": [],
   "source": [
    "augmented_images.rotate90(probability=0.99)\n",
    "augmented_images.rotate270(probability=0.99)\n",
    "augmented_images.flip_left_right(probability=0.99)\n",
    "augmented_images.flip_top_bottom(probability=0.99)\n",
    "augmented_images.zoom(probability=1, min_factor=1.1, max_factor=1.1)\n",
    "augmented_images.zoom(probability=1, min_factor=1.25, max_factor=1.25)\n",
    "#augmented_images.resize(probability=1.0, width=224, height=224)"
   ]
  },
  {
   "cell_type": "markdown",
   "metadata": {},
   "source": [
    "# Number Images That You Want"
   ]
  },
  {
   "cell_type": "code",
   "execution_count": 17,
   "metadata": {},
   "outputs": [
    {
     "name": "stderr",
     "output_type": "stream",
     "text": [
      "Processing <PIL.Image.Image image mode=RGB size=390x259 at 0x118EED450>: 100%|██████████| 828/828 [00:03<00:00, 214.45 Samples/s]  \n"
     ]
    }
   ],
   "source": [
    "augmented_images.sample(828)"
   ]
  },
  {
   "cell_type": "code",
   "execution_count": null,
   "metadata": {},
   "outputs": [],
   "source": []
  }
 ],
 "metadata": {
  "kernelspec": {
   "display_name": "Python 3",
   "language": "python",
   "name": "python3"
  },
  "language_info": {
   "codemirror_mode": {
    "name": "ipython",
    "version": 3
   },
   "file_extension": ".py",
   "mimetype": "text/x-python",
   "name": "python",
   "nbconvert_exporter": "python",
   "pygments_lexer": "ipython3",
   "version": "3.7.4"
  }
 },
 "nbformat": 4,
 "nbformat_minor": 4
}
