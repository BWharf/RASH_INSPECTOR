{
 "cells": [
  {
   "cell_type": "code",
   "execution_count": 2,
   "metadata": {},
   "outputs": [],
   "source": [
    "import cv2\n",
    "import numpy as np\n",
    "import matplotlib.pyplot as plt\n",
    "import matplotlib.image as mping\n",
    "from skimage import exposure\n",
    "from skimage.util import random_noise\n",
    "from skimage import transform"
   ]
  },
  {
   "cell_type": "code",
   "execution_count": 3,
   "metadata": {},
   "outputs": [],
   "source": [
    "#for i, img in enumerate():   "
   ]
  },
  {
   "cell_type": "code",
   "execution_count": 16,
   "metadata": {},
   "outputs": [
    {
     "name": "stdout",
     "output_type": "stream",
     "text": [
      "[[[252 254 251]\n",
      "  [252 254 251]\n",
      "  [252 254 251]\n",
      "  ...\n",
      "  [252 254 251]\n",
      "  [252 254 251]\n",
      "  [252 254 251]]\n",
      "\n",
      " [[252 254 251]\n",
      "  [252 254 251]\n",
      "  [252 254 251]\n",
      "  ...\n",
      "  [252 254 251]\n",
      "  [252 254 251]\n",
      "  [252 254 251]]\n",
      "\n",
      " [[252 254 251]\n",
      "  [252 254 251]\n",
      "  [252 254 251]\n",
      "  ...\n",
      "  [252 254 251]\n",
      "  [252 254 251]\n",
      "  [252 254 251]]\n",
      "\n",
      " ...\n",
      "\n",
      " [[171 151 140]\n",
      "  [172 152 141]\n",
      "  [172 154 142]\n",
      "  ...\n",
      "  [252 254 251]\n",
      "  [252 254 251]\n",
      "  [252 254 251]]\n",
      "\n",
      " [[168 150 138]\n",
      "  [173 155 143]\n",
      "  [164 146 134]\n",
      "  ...\n",
      "  [252 254 251]\n",
      "  [252 254 251]\n",
      "  [252 254 251]]\n",
      "\n",
      " [[168 150 138]\n",
      "  [173 155 143]\n",
      "  [163 147 134]\n",
      "  ...\n",
      "  [252 254 251]\n",
      "  [252 254 251]\n",
      "  [252 254 251]]]\n"
     ]
    }
   ],
   "source": [
    "#img = mping.imread('/Users/waranthornchansawang/Desktop/RASH_INSPECTOR/Dataset/ORGAN/step2_selected_data/bodyskin/AD/AD32.jpg')\n",
    "img = mping.imread('/Users/waranthornchansawang/Desktop/RASH_INSPECTOR/Dataset/ORGAN/step0_original_data/AtopicDermatitis/bodyskin/AD32.jpg', -1)\n",
    "print(img)"
   ]
  },
  {
   "cell_type": "code",
   "execution_count": null,
   "metadata": {},
   "outputs": [],
   "source": []
  }
 ],
 "metadata": {
  "kernelspec": {
   "display_name": "Python 3",
   "language": "python",
   "name": "python3"
  },
  "language_info": {
   "codemirror_mode": {
    "name": "ipython",
    "version": 3
   },
   "file_extension": ".py",
   "mimetype": "text/x-python",
   "name": "python",
   "nbconvert_exporter": "python",
   "pygments_lexer": "ipython3",
   "version": "3.7.4"
  }
 },
 "nbformat": 4,
 "nbformat_minor": 4
}
