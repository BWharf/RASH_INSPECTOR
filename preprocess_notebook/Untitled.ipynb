{
 "cells": [
  {
   "cell_type": "code",
   "execution_count": 1,
   "metadata": {},
   "outputs": [],
   "source": [
    "import cv2\n",
    "import glob\n",
    "import numpy as np\n",
    "import matplotlib.pyplot as plt"
   ]
  },
  {
   "cell_type": "code",
   "execution_count": 2,
   "metadata": {},
   "outputs": [],
   "source": [
    "data_path = glob.glob('/Users/waranthornchansawang/Desktop/RASH_INSPECTOR/Dataset/original_data/Allergy/AtopicDermatitis/arm/*.jpg')\n",
    "\n",
    "new_path = '/Users/waranthornchansawang/Desktop/RASH_INSPECTOR/Dataset/norm/norm_{}.jpg'"
   ]
  },
  {
   "cell_type": "code",
   "execution_count": 34,
   "metadata": {},
   "outputs": [],
   "source": [
    "def resize_normalization(input_path, output_path):\n",
    "    \n",
    "    image_size = 224\n",
    "    dim = (image_size, image_size)\n",
    "    \n",
    "    for i, img in enumerate(input_path):\n",
    "        image = cv2.imread(img)\n",
    "        resized_image = cv2.resize(image, dim)\n",
    "        normalized_image = np.array(((resized_image-np.min(resized_image))/(np.max(resized_image)-np.min(resized_image))*255).astype('float32'))\n",
    "        cv2.imwrite(output_path.format(i), normalized_image)\n",
    "        plt.imshow(normalized_image)"
   ]
  },
  {
   "cell_type": "code",
   "execution_count": 35,
   "metadata": {},
   "outputs": [
    {
     "name": "stderr",
     "output_type": "stream",
     "text": [
      "Clipping input data to the valid range for imshow with RGB data ([0..1] for floats or [0..255] for integers).\n",
      "Clipping input data to the valid range for imshow with RGB data ([0..1] for floats or [0..255] for integers).\n",
      "Clipping input data to the valid range for imshow with RGB data ([0..1] for floats or [0..255] for integers).\n",
      "Clipping input data to the valid range for imshow with RGB data ([0..1] for floats or [0..255] for integers).\n",
      "Clipping input data to the valid range for imshow with RGB data ([0..1] for floats or [0..255] for integers).\n",
      "Clipping input data to the valid range for imshow with RGB data ([0..1] for floats or [0..255] for integers).\n",
      "Clipping input data to the valid range for imshow with RGB data ([0..1] for floats or [0..255] for integers).\n",
      "Clipping input data to the valid range for imshow with RGB data ([0..1] for floats or [0..255] for integers).\n",
      "Clipping input data to the valid range for imshow with RGB data ([0..1] for floats or [0..255] for integers).\n",
      "Clipping input data to the valid range for imshow with RGB data ([0..1] for floats or [0..255] for integers).\n",
      "Clipping input data to the valid range for imshow with RGB data ([0..1] for floats or [0..255] for integers).\n",
      "Clipping input data to the valid range for imshow with RGB data ([0..1] for floats or [0..255] for integers).\n",
      "Clipping input data to the valid range for imshow with RGB data ([0..1] for floats or [0..255] for integers).\n",
      "Clipping input data to the valid range for imshow with RGB data ([0..1] for floats or [0..255] for integers).\n",
      "Clipping input data to the valid range for imshow with RGB data ([0..1] for floats or [0..255] for integers).\n",
      "Clipping input data to the valid range for imshow with RGB data ([0..1] for floats or [0..255] for integers).\n",
      "Clipping input data to the valid range for imshow with RGB data ([0..1] for floats or [0..255] for integers).\n",
      "Clipping input data to the valid range for imshow with RGB data ([0..1] for floats or [0..255] for integers).\n",
      "Clipping input data to the valid range for imshow with RGB data ([0..1] for floats or [0..255] for integers).\n",
      "Clipping input data to the valid range for imshow with RGB data ([0..1] for floats or [0..255] for integers).\n",
      "Clipping input data to the valid range for imshow with RGB data ([0..1] for floats or [0..255] for integers).\n",
      "Clipping input data to the valid range for imshow with RGB data ([0..1] for floats or [0..255] for integers).\n",
      "Clipping input data to the valid range for imshow with RGB data ([0..1] for floats or [0..255] for integers).\n",
      "Clipping input data to the valid range for imshow with RGB data ([0..1] for floats or [0..255] for integers).\n",
      "Clipping input data to the valid range for imshow with RGB data ([0..1] for floats or [0..255] for integers).\n",
      "Clipping input data to the valid range for imshow with RGB data ([0..1] for floats or [0..255] for integers).\n",
      "Clipping input data to the valid range for imshow with RGB data ([0..1] for floats or [0..255] for integers).\n",
      "Clipping input data to the valid range for imshow with RGB data ([0..1] for floats or [0..255] for integers).\n",
      "Clipping input data to the valid range for imshow with RGB data ([0..1] for floats or [0..255] for integers).\n",
      "Clipping input data to the valid range for imshow with RGB data ([0..1] for floats or [0..255] for integers).\n",
      "Clipping input data to the valid range for imshow with RGB data ([0..1] for floats or [0..255] for integers).\n",
      "Clipping input data to the valid range for imshow with RGB data ([0..1] for floats or [0..255] for integers).\n",
      "Clipping input data to the valid range for imshow with RGB data ([0..1] for floats or [0..255] for integers).\n",
      "Clipping input data to the valid range for imshow with RGB data ([0..1] for floats or [0..255] for integers).\n",
      "Clipping input data to the valid range for imshow with RGB data ([0..1] for floats or [0..255] for integers).\n",
      "Clipping input data to the valid range for imshow with RGB data ([0..1] for floats or [0..255] for integers).\n",
      "Clipping input data to the valid range for imshow with RGB data ([0..1] for floats or [0..255] for integers).\n",
      "Clipping input data to the valid range for imshow with RGB data ([0..1] for floats or [0..255] for integers).\n",
      "Clipping input data to the valid range for imshow with RGB data ([0..1] for floats or [0..255] for integers).\n",
      "Clipping input data to the valid range for imshow with RGB data ([0..1] for floats or [0..255] for integers).\n",
      "Clipping input data to the valid range for imshow with RGB data ([0..1] for floats or [0..255] for integers).\n",
      "Clipping input data to the valid range for imshow with RGB data ([0..1] for floats or [0..255] for integers).\n",
      "Clipping input data to the valid range for imshow with RGB data ([0..1] for floats or [0..255] for integers).\n",
      "Clipping input data to the valid range for imshow with RGB data ([0..1] for floats or [0..255] for integers).\n",
      "Clipping input data to the valid range for imshow with RGB data ([0..1] for floats or [0..255] for integers).\n",
      "Clipping input data to the valid range for imshow with RGB data ([0..1] for floats or [0..255] for integers).\n",
      "Clipping input data to the valid range for imshow with RGB data ([0..1] for floats or [0..255] for integers).\n",
      "Clipping input data to the valid range for imshow with RGB data ([0..1] for floats or [0..255] for integers).\n",
      "Clipping input data to the valid range for imshow with RGB data ([0..1] for floats or [0..255] for integers).\n",
      "Clipping input data to the valid range for imshow with RGB data ([0..1] for floats or [0..255] for integers).\n",
      "Clipping input data to the valid range for imshow with RGB data ([0..1] for floats or [0..255] for integers).\n",
      "Clipping input data to the valid range for imshow with RGB data ([0..1] for floats or [0..255] for integers).\n"
     ]
    },
    {
     "data": {
      "image/png": "[encoded data removed]",
      "text/plain": [
       "<Figure size 432x288 with 1 Axes>"
      ]
     },
     "metadata": {
      "needs_background": "light"
     },
     "output_type": "display_data"
    }
   ],
   "source": [
    "resize_normalization(data_path, new_path)"
   ]
  },
  {
   "cell_type": "code",
   "execution_count": 36,
   "metadata": {},
   "outputs": [
    {
     "data": {
      "text/plain": [
       "array([[[232, 182, 129],\n",
       "        [223, 173, 120],\n",
       "        [228, 179, 123],\n",
       "        ...,\n",
       "        [170, 142, 108],\n",
       "        [ 98,  77,  50],\n",
       "        [ 26,  10,   0]],\n",
       "\n",
       "       [[226, 176, 123],\n",
       "        [231, 181, 128],\n",
       "        [236, 187, 131],\n",
       "        ...,\n",
       "        [183, 155, 121],\n",
       "        [ 93,  72,  45],\n",
       "        [ 26,  10,   0]],\n",
       "\n",
       "       [[225, 178, 124],\n",
       "        [230, 183, 129],\n",
       "        [227, 180, 124],\n",
       "        ...,\n",
       "        [190, 162, 128],\n",
       "        [150, 129, 102],\n",
       "        [ 35,  17,   0]],\n",
       "\n",
       "       ...,\n",
       "\n",
       "       [[135,  99,  75],\n",
       "        [142, 106,  82],\n",
       "        [140, 104,  80],\n",
       "        ...,\n",
       "        [117,  90,  70],\n",
       "        [123,  95,  78],\n",
       "        [ 98,  71,  51]],\n",
       "\n",
       "       [[140, 104,  80],\n",
       "        [139, 103,  79],\n",
       "        [132,  98,  74],\n",
       "        ...,\n",
       "        [121,  93,  76],\n",
       "        [109,  80,  65],\n",
       "        [ 62,  34,  17]],\n",
       "\n",
       "       [[133,  97,  73],\n",
       "        [141, 105,  81],\n",
       "        [135, 101,  77],\n",
       "        ...,\n",
       "        [118,  89,  74],\n",
       "        [111,  82,  67],\n",
       "        [ 90,  61,  46]]], dtype=uint8)"
      ]
     },
     "execution_count": 36,
     "metadata": {},
     "output_type": "execute_result"
    }
   ],
   "source": [
    "cv2.imread('/Users/waranthornchansawang/Desktop/RASH_INSPECTOR/Dataset/norm/norm_2.jpg')"
   ]
  },
  {
   "cell_type": "code",
   "execution_count": 14,
   "metadata": {},
   "outputs": [
    {
     "data": {
      "text/plain": [
       "array([[[232, 182, 129],\n",
       "        [223, 173, 120],\n",
       "        [228, 179, 123],\n",
       "        ...,\n",
       "        [170, 142, 108],\n",
       "        [ 98,  77,  50],\n",
       "        [ 26,  10,   0]],\n",
       "\n",
       "       [[226, 176, 123],\n",
       "        [231, 181, 128],\n",
       "        [236, 187, 131],\n",
       "        ...,\n",
       "        [183, 155, 121],\n",
       "        [ 93,  72,  45],\n",
       "        [ 26,  10,   0]],\n",
       "\n",
       "       [[225, 178, 124],\n",
       "        [230, 183, 129],\n",
       "        [227, 180, 124],\n",
       "        ...,\n",
       "        [190, 162, 128],\n",
       "        [150, 129, 102],\n",
       "        [ 35,  17,   0]],\n",
       "\n",
       "       ...,\n",
       "\n",
       "       [[135,  99,  75],\n",
       "        [142, 106,  82],\n",
       "        [140, 104,  80],\n",
       "        ...,\n",
       "        [117,  90,  70],\n",
       "        [123,  95,  78],\n",
       "        [ 98,  71,  51]],\n",
       "\n",
       "       [[140, 104,  80],\n",
       "        [139, 103,  79],\n",
       "        [132,  98,  74],\n",
       "        ...,\n",
       "        [121,  93,  76],\n",
       "        [109,  80,  65],\n",
       "        [ 62,  34,  17]],\n",
       "\n",
       "       [[133,  97,  73],\n",
       "        [141, 105,  81],\n",
       "        [135, 101,  77],\n",
       "        ...,\n",
       "        [118,  89,  74],\n",
       "        [111,  82,  67],\n",
       "        [ 90,  61,  46]]], dtype=uint8)"
      ]
     },
     "execution_count": 14,
     "metadata": {},
     "output_type": "execute_result"
    }
   ],
   "source": [
    "cv2.imread('/Users/waranthornchansawang/Desktop/RASH_INSPECTOR/Dataset/1/norm_2.jpg')"
   ]
  },
  {
   "cell_type": "code",
   "execution_count": null,
   "metadata": {},
   "outputs": [],
   "source": []
  }
 ],
 "metadata": {
  "kernelspec": {
   "display_name": "Python 3",
   "language": "python",
   "name": "python3"
  },
  "language_info": {
   "codemirror_mode": {
    "name": "ipython",
    "version": 3
   },
   "file_extension": ".py",
   "mimetype": "text/x-python",
   "name": "python",
   "nbconvert_exporter": "python",
   "pygments_lexer": "ipython3",
   "version": "3.7.4"
  }
 },
 "nbformat": 4,
 "nbformat_minor": 4
}
