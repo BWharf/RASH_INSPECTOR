{
 "cells": [
  {
   "cell_type": "code",
   "execution_count": 1,
   "metadata": {},
   "outputs": [],
   "source": [
    "import cv2\n",
    "import glob"
   ]
  },
  {
   "cell_type": "code",
   "execution_count": 5,
   "metadata": {},
   "outputs": [],
   "source": [
    "data_path = glob.glob('/Users/waranthornchansawang/Desktop/RASH_INSPECTOR/Dataset/original_data/Allergy/ContactDermatitis/face/*.jpg')\n",
    "\n",
    "new_path = '/Users/waranthornchansawang/Desktop/RASH_INSPECTOR/Dataset/norm_data/Allergy/ContactDermatitis/face/norm_ad_face{}.jpg'"
   ]
  },
  {
   "cell_type": "code",
   "execution_count": 9,
   "metadata": {},
   "outputs": [],
   "source": [
    "def normalization(input_path, output_path):\n",
    "    \n",
    "    image_size = 224\n",
    "    dim = (image_size, image_size)\n",
    "    \n",
    "    for i, img in enumerate(input_path):\n",
    "        image = cv2.imread(img, -1)\n",
    "        normalized_image = cv2.normalize(image, image, 0, 255, cv2.NORM_MINMAX)\n",
    "        cv2.imwrite(output_path.format(i), normalized_image)"
   ]
  },
  {
   "cell_type": "code",
   "execution_count": 10,
   "metadata": {},
   "outputs": [],
   "source": [
    "normalization(data_path, new_path)"
   ]
  },
  {
   "cell_type": "code",
   "execution_count": null,
   "metadata": {},
   "outputs": [],
   "source": []
  }
 ],
 "metadata": {
  "kernelspec": {
   "display_name": "Python 3",
   "language": "python",
   "name": "python3"
  },
  "language_info": {
   "codemirror_mode": {
    "name": "ipython",
    "version": 3
   },
   "file_extension": ".py",
   "mimetype": "text/x-python",
   "name": "python",
   "nbconvert_exporter": "python",
   "pygments_lexer": "ipython3",
   "version": "3.7.4"
  }
 },
 "nbformat": 4,
 "nbformat_minor": 4
}
