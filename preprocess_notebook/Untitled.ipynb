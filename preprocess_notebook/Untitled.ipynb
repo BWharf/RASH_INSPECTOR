{
 "cells": [
  {
   "cell_type": "code",
   "execution_count": 1,
   "metadata": {},
   "outputs": [],
   "source": [
    "import cv2\n",
    "import glob"
   ]
  },
  {
   "cell_type": "code",
   "execution_count": 2,
   "metadata": {},
   "outputs": [],
   "source": [
    "data_path = glob.glob('/Users/waranthornchansawang/Desktop/RASH_INSPECTOR/Dataset/original_data/Allergy/AtopicDermatitis/arm/*.jpg')\n",
    "\n",
    "new_path = '/Users/waranthornchansawang/Desktop/RASH_INSPECTOR/Dataset/renorm/AtopicDermatitis/arm/norm_{}.jpg'"
   ]
  },
  {
   "cell_type": "code",
   "execution_count": 3,
   "metadata": {},
   "outputs": [],
   "source": [
    "def normalization(input_path, output_path):\n",
    "    \n",
    "    image_size = 224\n",
    "    dim = (image_size, image_size)\n",
    "    \n",
    "    for i, img in enumerate(input_path):\n",
    "        image = cv2.imread(img, -1)\n",
    "        #resized_image = cv2.resize(image, dim)\n",
    "        normalized_image = cv2.normalize(image, image, 0, 255, cv2.NORM_MINMAX)\n",
    "        normalized_image = (normalized_image)\n",
    "        #return normalized_image\n",
    "        cv2.imwrite(output_path.format(i), normalized_image)"
   ]
  },
  {
   "cell_type": "code",
   "execution_count": 4,
   "metadata": {},
   "outputs": [],
   "source": [
    "normalization(data_path, new_path)"
   ]
  },
  {
   "cell_type": "code",
   "execution_count": 7,
   "metadata": {},
   "outputs": [
    {
     "data": {
      "text/plain": [
       "array([[[240, 197, 134],\n",
       "        [235, 192, 129],\n",
       "        [228, 184, 125],\n",
       "        ...,\n",
       "        [ 16,   7,   0],\n",
       "        [  7,   2,   0],\n",
       "        [ 10,   8,   8]],\n",
       "\n",
       "       [[230, 187, 124],\n",
       "        [227, 184, 121],\n",
       "        [224, 180, 121],\n",
       "        ...,\n",
       "        [ 16,   7,   0],\n",
       "        [ 11,   6,   3],\n",
       "        [  4,   2,   2]],\n",
       "\n",
       "       [[225, 181, 118],\n",
       "        [224, 180, 117],\n",
       "        [225, 179, 121],\n",
       "        ...,\n",
       "        [ 20,  11,   0],\n",
       "        [ 18,  12,   7],\n",
       "        [ 15,  11,  10]],\n",
       "\n",
       "       ...,\n",
       "\n",
       "       [[141, 106,  80],\n",
       "        [140, 105,  79],\n",
       "        [137, 102,  76],\n",
       "        ...,\n",
       "        [ 88,  63,  47],\n",
       "        [ 53,  30,  14],\n",
       "        [ 37,  14,   0]],\n",
       "\n",
       "       [[134,  99,  73],\n",
       "        [133,  98,  72],\n",
       "        [131,  96,  70],\n",
       "        ...,\n",
       "        [114,  89,  73],\n",
       "        [ 80,  57,  41],\n",
       "        [ 46,  23,   7]],\n",
       "\n",
       "       [[129,  92,  64],\n",
       "        [135,  98,  70],\n",
       "        [136,  99,  71],\n",
       "        ...,\n",
       "        [115,  90,  74],\n",
       "        [ 74,  51,  36],\n",
       "        [ 38,  15,   0]]], dtype=uint8)"
      ]
     },
     "execution_count": 7,
     "metadata": {},
     "output_type": "execute_result"
    }
   ],
   "source": [
    "cv2.imread('/Users/waranthornchansawang/Desktop/RASH_INSPECTOR/Dataset/renorm/AtopicDermatitis/arm/norm_2.jpg')"
   ]
  },
  {
   "cell_type": "code",
   "execution_count": 10,
   "metadata": {},
   "outputs": [
    {
     "data": {
      "text/plain": [
       "array([[[240, 197, 134],\n",
       "        [235, 191, 130],\n",
       "        [228, 184, 125],\n",
       "        ...,\n",
       "        [ 11,   4,   0],\n",
       "        [  5,   2,   0],\n",
       "        [  9,  10,   8]],\n",
       "\n",
       "       [[230, 187, 124],\n",
       "        [228, 184, 123],\n",
       "        [224, 180, 121],\n",
       "        ...,\n",
       "        [ 16,   7,   0],\n",
       "        [ 10,   7,   2],\n",
       "        [  2,   3,   1]],\n",
       "\n",
       "       [[225, 181, 118],\n",
       "        [224, 179, 118],\n",
       "        [225, 179, 121],\n",
       "        ...,\n",
       "        [ 20,  11,   1],\n",
       "        [ 16,  12,   7],\n",
       "        [ 13,  12,   8]],\n",
       "\n",
       "       ...,\n",
       "\n",
       "       [[143, 106,  78],\n",
       "        [142, 105,  77],\n",
       "        [138, 103,  77],\n",
       "        ...,\n",
       "        [ 89,  64,  48],\n",
       "        [ 53,  30,  15],\n",
       "        [ 37,  14,   0]],\n",
       "\n",
       "       [[136,  99,  71],\n",
       "        [135,  98,  70],\n",
       "        [131,  96,  70],\n",
       "        ...,\n",
       "        [113,  88,  72],\n",
       "        [ 79,  56,  41],\n",
       "        [ 47,  24,   9]],\n",
       "\n",
       "       [[129,  92,  64],\n",
       "        [135,  98,  70],\n",
       "        [136,  99,  71],\n",
       "        ...,\n",
       "        [115,  90,  74],\n",
       "        [ 74,  51,  36],\n",
       "        [ 38,  15,   0]]], dtype=uint8)"
      ]
     },
     "execution_count": 10,
     "metadata": {},
     "output_type": "execute_result"
    }
   ],
   "source": [
    "cv2.imread('/Users/waranthornchansawang/Desktop/RASH_INSPECTOR/Dataset/original_data/Allergy/AtopicDermatitis/arm/dq042768HB-768x505.jpg')"
   ]
  },
  {
   "cell_type": "code",
   "execution_count": null,
   "metadata": {},
   "outputs": [],
   "source": []
  }
 ],
 "metadata": {
  "kernelspec": {
   "display_name": "Python 3",
   "language": "python",
   "name": "python3"
  },
  "language_info": {
   "codemirror_mode": {
    "name": "ipython",
    "version": 3
   },
   "file_extension": ".py",
   "mimetype": "text/x-python",
   "name": "python",
   "nbconvert_exporter": "python",
   "pygments_lexer": "ipython3",
   "version": "3.7.4"
  }
 },
 "nbformat": 4,
 "nbformat_minor": 2
}
