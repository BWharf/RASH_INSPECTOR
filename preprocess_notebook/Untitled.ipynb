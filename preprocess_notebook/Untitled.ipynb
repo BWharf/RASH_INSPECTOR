{
 "cells": [
  {
   "cell_type": "code",
   "execution_count": 48,
   "metadata": {},
   "outputs": [],
   "source": [
    "from PIL import Image\n",
    "import glob"
   ]
  },
  {
   "cell_type": "code",
   "execution_count": 2,
   "metadata": {},
   "outputs": [],
   "source": [
    "def change_to_jpg(path):\n",
    "    for file in glob.glob(path):\n",
    "        img = Image.open(file)\n",
    "        rgb_img = img.convert('RGB', (255, 255, 255))\n",
    "        rgb_img.save(file.replace(\"png\", \"jpg\"), quality=100)"
   ]
  },
  {
   "cell_type": "code",
   "execution_count": 47,
   "metadata": {},
   "outputs": [],
   "source": [
    "change_to_jpg('/Users/waranthornchansawang/Desktop/RASH_INSPECTOR/Dataset/ORGAN/step2_selected_data/arm/Other/*.png')"
   ]
  },
  {
   "cell_type": "code",
   "execution_count": null,
   "metadata": {},
   "outputs": [],
   "source": []
  }
 ],
 "metadata": {
  "kernelspec": {
   "display_name": "Python 3",
   "language": "python",
   "name": "python3"
  },
  "language_info": {
   "codemirror_mode": {
    "name": "ipython",
    "version": 3
   },
   "file_extension": ".py",
   "mimetype": "text/x-python",
   "name": "python",
   "nbconvert_exporter": "python",
   "pygments_lexer": "ipython3",
   "version": "3.7.4"
  }
 },
 "nbformat": 4,
 "nbformat_minor": 4
}
