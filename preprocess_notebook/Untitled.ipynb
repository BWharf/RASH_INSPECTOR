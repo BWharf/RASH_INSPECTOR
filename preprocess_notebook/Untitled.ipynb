{
 "cells": [
  {
   "cell_type": "code",
   "execution_count": 1,
   "metadata": {},
   "outputs": [],
   "source": [
    "def random_brightness(image):\n",
    "    # Convert 2 HSV colorspace from BGR colorspace\n",
    "    hsv = cv2.cvtColor(image, cv2.COLOR_BGR2HSV)\n",
    "    # Generate new random brightness\n",
    "    rand = random.uniform(0.3, 1.0)\n",
    "    hsv[:, :, 2] = rand*hsv[:, :, 2]\n",
    "    # Convert back to BGR colorspace\n",
    "    new_img = cv2.cvtColor(hsv, cv2.COLOR_HSV2BGR)\n",
    "    return new_img\n",
    "\n",
    "def zoom(image):\n",
    "    zoom_pix = random.randint(0, 10)\n",
    "    zoom_factor = 1 + (2*zoom_pix)/image_size\n",
    "    image = cv2.resize(image, None, fx=zoom_factor,\n",
    "                       fy=zoom_factor, interpolation=cv2.INTER_LINEAR)\n",
    "    top_crop = (image.shape[0] - image_size)//2\n",
    "    left_crop = (image.shape[1] - image_size)//2\n",
    "    image = image[top_crop: top_crop+image_size,\n",
    "                  left_crop: left_crop+image_size]"
   ]
  },
  {
   "cell_type": "code",
   "execution_count": 2,
   "metadata": {},
   "outputs": [],
   "source": [
    "def random_crop(img, random_crop_size):\n",
    "    # Note: image_data_format is 'channel_last'\n",
    "    assert img.shape[2] == 3\n",
    "    height, width = img.shape[0], img.shape[1]\n",
    "    dy, dx = random_crop_size\n",
    "    x = np.random.randint(0, width - dx + 1)\n",
    "    y = np.random.randint(0, height - dy + 1)\n",
    "    return img[y:(y+dy), x:(x+dx), :]"
   ]
  },
  {
   "cell_type": "code",
   "execution_count": null,
   "metadata": {},
   "outputs": [],
   "source": []
  }
 ],
 "metadata": {
  "kernelspec": {
   "display_name": "Python 3",
   "language": "python",
   "name": "python3"
  },
  "language_info": {
   "codemirror_mode": {
    "name": "ipython",
    "version": 3
   },
   "file_extension": ".py",
   "mimetype": "text/x-python",
   "name": "python",
   "nbconvert_exporter": "python",
   "pygments_lexer": "ipython3",
   "version": "3.7.4"
  }
 },
 "nbformat": 4,
 "nbformat_minor": 4
}
