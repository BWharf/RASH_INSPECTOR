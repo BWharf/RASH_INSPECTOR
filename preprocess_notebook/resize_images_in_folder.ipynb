{
 "cells": [
  {
   "cell_type": "markdown",
   "metadata": {},
   "source": [
    "# How to Resize Images in Folder"
   ]
  },
  {
   "cell_type": "markdown",
   "metadata": {},
   "source": [
    "* Follow this steps"
   ]
  },
  {
   "cell_type": "markdown",
   "metadata": {},
   "source": [
    "# Importing Libraries"
   ]
  },
  {
   "cell_type": "code",
   "execution_count": 1,
   "metadata": {},
   "outputs": [],
   "source": [
    "from PIL import Image\n",
    "import glob"
   ]
  },
  {
   "cell_type": "markdown",
   "metadata": {},
   "source": [
    "# Folder Path"
   ]
  },
  {
   "cell_type": "code",
   "execution_count": 2,
   "metadata": {},
   "outputs": [],
   "source": [
    "original_path = '/Users/waranthornchansawang/Desktop/RASH_INSPECTOR/Dataset/ORGAN/step2_selected_data/arm/AD/*.jpg'\n",
    "\n",
    "resized_path = '/Users/waranthornchansawang/Desktop/RASH_INSPECTOR/Dataset/ORGAN/step3_resized_data/arm/AD'"
   ]
  },
  {
   "cell_type": "code",
   "execution_count": 3,
   "metadata": {},
   "outputs": [],
   "source": [
    "extension = '.jpg'"
   ]
  },
  {
   "cell_type": "markdown",
   "metadata": {},
   "source": [
    "# Resized Images"
   ]
  },
  {
   "cell_type": "code",
   "execution_count": 4,
   "metadata": {},
   "outputs": [],
   "source": [
    "resized_image = []"
   ]
  },
  {
   "cell_type": "code",
   "execution_count": 6,
   "metadata": {},
   "outputs": [
    {
     "name": "stdout",
     "output_type": "stream",
     "text": [
      "/Users/waranthornchansawang/Desktop/RASH_INSPECTOR/Dataset/ORGAN/step2_selected_data/arm/AD/img0036.jpg\n",
      "/Users/waranthornchansawang/Desktop/RASH_INSPECTOR/Dataset/ORGAN/step2_selected_data/arm/AD/dq042768HB-768x505.jpg\n",
      "/Users/waranthornchansawang/Desktop/RASH_INSPECTOR/Dataset/ORGAN/step2_selected_data/arm/AD/atopic-dermatitis-ad-known-eczema-260nw-698195077.jpg\n",
      "/Users/waranthornchansawang/Desktop/RASH_INSPECTOR/Dataset/ORGAN/step2_selected_data/arm/AD/2-Figure1-1.jpg\n",
      "/Users/waranthornchansawang/Desktop/RASH_INSPECTOR/Dataset/ORGAN/step2_selected_data/arm/AD/dq042851HB-768x505.jpg\n",
      "/Users/waranthornchansawang/Desktop/RASH_INSPECTOR/Dataset/ORGAN/step2_selected_data/arm/AD/img0035.jpg\n",
      "/Users/waranthornchansawang/Desktop/RASH_INSPECTOR/Dataset/ORGAN/step2_selected_data/arm/AD/hand-dermatitis-eczema-on-260nw-691372195.jpg\n",
      "/Users/waranthornchansawang/Desktop/RASH_INSPECTOR/Dataset/ORGAN/step2_selected_data/arm/AD/414.jpg\n",
      "/Users/waranthornchansawang/Desktop/RASH_INSPECTOR/Dataset/ORGAN/step2_selected_data/arm/AD/Screen Shot 2562-10-18 at 15.43.12.jpg\n",
      "/Users/waranthornchansawang/Desktop/RASH_INSPECTOR/Dataset/ORGAN/step2_selected_data/arm/AD/atopic-dermatitis-ad-known-eczema-260nw-698195065.jpg\n",
      "/Users/waranthornchansawang/Desktop/RASH_INSPECTOR/Dataset/ORGAN/step2_selected_data/arm/AD/hand-dermatitis-eczema-on-260nw-691372186.jpg\n",
      "/Users/waranthornchansawang/Desktop/RASH_INSPECTOR/Dataset/ORGAN/step2_selected_data/arm/AD/dq044291VB.jpg\n",
      "/Users/waranthornchansawang/Desktop/RASH_INSPECTOR/Dataset/ORGAN/step2_selected_data/arm/AD/dq029928VB.jpg\n",
      "/Users/waranthornchansawang/Desktop/RASH_INSPECTOR/Dataset/ORGAN/step2_selected_data/arm/AD/dq044298HB-768x505.jpg\n",
      "/Users/waranthornchansawang/Desktop/RASH_INSPECTOR/Dataset/ORGAN/step2_selected_data/arm/AD/atopic-dermatitis-ad-known-eczema-260nw-697833358.jpg\n",
      "/Users/waranthornchansawang/Desktop/RASH_INSPECTOR/Dataset/ORGAN/step2_selected_data/arm/AD/hand-dermatitis-eczema-on-260nw-688712185.jpg\n",
      "/Users/waranthornchansawang/Desktop/RASH_INSPECTOR/Dataset/ORGAN/step2_selected_data/arm/AD/hand-dermatitis-eczema-on-260nw-688712191.jpg\n",
      "/Users/waranthornchansawang/Desktop/RASH_INSPECTOR/Dataset/ORGAN/step2_selected_data/arm/AD/img0080.jpg\n",
      "/Users/waranthornchansawang/Desktop/RASH_INSPECTOR/Dataset/ORGAN/step2_selected_data/arm/AD/eczema-remedy.jpg\n",
      "/Users/waranthornchansawang/Desktop/RASH_INSPECTOR/Dataset/ORGAN/step2_selected_data/arm/AD/AD10.jpg\n",
      "/Users/waranthornchansawang/Desktop/RASH_INSPECTOR/Dataset/ORGAN/step2_selected_data/arm/AD/wc_150219_dermatitis_atopic_dermatitis_child_800x600.jpg\n",
      "/Users/waranthornchansawang/Desktop/RASH_INSPECTOR/Dataset/ORGAN/step2_selected_data/arm/AD/AD05.jpg\n",
      "/Users/waranthornchansawang/Desktop/RASH_INSPECTOR/Dataset/ORGAN/step2_selected_data/arm/AD/642x361_GALLERY_1-What_Are_the_Different_Types_of_Eczema.jpg\n",
      "/Users/waranthornchansawang/Desktop/RASH_INSPECTOR/Dataset/ORGAN/step2_selected_data/arm/AD/dq042805HB-768x505.jpg\n",
      "/Users/waranthornchansawang/Desktop/RASH_INSPECTOR/Dataset/ORGAN/step2_selected_data/arm/AD/AD12.jpg\n",
      "/Users/waranthornchansawang/Desktop/RASH_INSPECTOR/Dataset/ORGAN/step2_selected_data/arm/AD/dq042766VB.jpg\n",
      "/Users/waranthornchansawang/Desktop/RASH_INSPECTOR/Dataset/ORGAN/step2_selected_data/arm/AD/dq040072HB.jpg\n",
      "/Users/waranthornchansawang/Desktop/RASH_INSPECTOR/Dataset/ORGAN/step2_selected_data/arm/AD/img0049.jpg\n",
      "/Users/waranthornchansawang/Desktop/RASH_INSPECTOR/Dataset/ORGAN/step2_selected_data/arm/AD/hand-dermatitis-eczema-on-260nw-692321431.jpg\n",
      "/Users/waranthornchansawang/Desktop/RASH_INSPECTOR/Dataset/ORGAN/step2_selected_data/arm/AD/642x361_GALLERY_7-What_Are_the_Different_Types_of_Eczema.jpg\n",
      "/Users/waranthornchansawang/Desktop/RASH_INSPECTOR/Dataset/ORGAN/step2_selected_data/arm/AD/dq042755VB.jpg\n",
      "/Users/waranthornchansawang/Desktop/RASH_INSPECTOR/Dataset/ORGAN/step2_selected_data/arm/AD/atopic-dermatitis-ad-known-eczema-260nw-698767762.jpg\n",
      "/Users/waranthornchansawang/Desktop/RASH_INSPECTOR/Dataset/ORGAN/step2_selected_data/arm/AD/hand-dermatitis-eczema-on-260nw-688712164.jpg\n",
      "/Users/waranthornchansawang/Desktop/RASH_INSPECTOR/Dataset/ORGAN/step2_selected_data/arm/AD/multiple-illdefine-erythematous-rash-forearm-260nw-1529604194.jpg\n",
      "/Users/waranthornchansawang/Desktop/RASH_INSPECTOR/Dataset/ORGAN/step2_selected_data/arm/AD/Atopic Dermatitis in the elbows crease.jpg\n",
      "/Users/waranthornchansawang/Desktop/RASH_INSPECTOR/Dataset/ORGAN/step2_selected_data/arm/AD/img0107.jpg\n",
      "/Users/waranthornchansawang/Desktop/RASH_INSPECTOR/Dataset/ORGAN/step2_selected_data/arm/AD/atopic-dermatitis-ad-known-eczema-260nw-699843043.jpg\n",
      "/Users/waranthornchansawang/Desktop/RASH_INSPECTOR/Dataset/ORGAN/step2_selected_data/arm/AD/1072445_Atopic-derm-Mar-Alamy-17.jpg\n",
      "/Users/waranthornchansawang/Desktop/RASH_INSPECTOR/Dataset/ORGAN/step2_selected_data/arm/AD/dq042807HB-768x505.jpg\n",
      "/Users/waranthornchansawang/Desktop/RASH_INSPECTOR/Dataset/ORGAN/step2_selected_data/arm/AD/dq040036VB.jpg\n",
      "/Users/waranthornchansawang/Desktop/RASH_INSPECTOR/Dataset/ORGAN/step2_selected_data/arm/AD/atopic-dermatitis-oral-image.jpg\n",
      "/Users/waranthornchansawang/Desktop/RASH_INSPECTOR/Dataset/ORGAN/step2_selected_data/arm/AD/download copy.jpg\n",
      "/Users/waranthornchansawang/Desktop/RASH_INSPECTOR/Dataset/ORGAN/step2_selected_data/arm/AD/atopic-dermatitis-ad-known-eczema-260nw-697227862.jpg\n",
      "/Users/waranthornchansawang/Desktop/RASH_INSPECTOR/Dataset/ORGAN/step2_selected_data/arm/AD/atopic-dermatitis-ad-known-eczema-260nw-698767759.jpg\n",
      "/Users/waranthornchansawang/Desktop/RASH_INSPECTOR/Dataset/ORGAN/step2_selected_data/arm/AD/Dermatitis-rash.jpg\n",
      "/Users/waranthornchansawang/Desktop/RASH_INSPECTOR/Dataset/ORGAN/step2_selected_data/arm/AD/atopic-dermatitis-ad-known-eczema-260nw-697227901.jpg\n",
      "/Users/waranthornchansawang/Desktop/RASH_INSPECTOR/Dataset/ORGAN/step2_selected_data/arm/AD/dq040021HB-768x505.jpg\n",
      "/Users/waranthornchansawang/Desktop/RASH_INSPECTOR/Dataset/ORGAN/step2_selected_data/arm/AD/flexural-eczema20.jpg\n",
      "/Users/waranthornchansawang/Desktop/RASH_INSPECTOR/Dataset/ORGAN/step2_selected_data/arm/AD/eczema flexure.jpg\n",
      "/Users/waranthornchansawang/Desktop/RASH_INSPECTOR/Dataset/ORGAN/step2_selected_data/arm/AD/dq042727HB-768x505.jpg\n",
      "/Users/waranthornchansawang/Desktop/RASH_INSPECTOR/Dataset/ORGAN/step2_selected_data/arm/AD/flexural-eczema21.jpg\n",
      "/Users/waranthornchansawang/Desktop/RASH_INSPECTOR/Dataset/ORGAN/step2_selected_data/arm/AD/eczema-treatment-skin-rash-dermatitis-atopic-natural-food-honey-1425111.jpg\n",
      "/Users/waranthornchansawang/Desktop/RASH_INSPECTOR/Dataset/ORGAN/step2_selected_data/arm/AD/img0015.jpg\n",
      "/Users/waranthornchansawang/Desktop/RASH_INSPECTOR/Dataset/ORGAN/step2_selected_data/arm/AD/dq040074VB.jpg\n",
      "/Users/waranthornchansawang/Desktop/RASH_INSPECTOR/Dataset/ORGAN/step2_selected_data/arm/AD/dq044297HB-768x505.jpg\n",
      "/Users/waranthornchansawang/Desktop/RASH_INSPECTOR/Dataset/ORGAN/step2_selected_data/arm/AD/flexural-eczema22.jpg\n",
      "/Users/waranthornchansawang/Desktop/RASH_INSPECTOR/Dataset/ORGAN/step2_selected_data/arm/AD/dq040028VB.jpg\n",
      "/Users/waranthornchansawang/Desktop/RASH_INSPECTOR/Dataset/ORGAN/step2_selected_data/arm/AD/img0010.jpg\n",
      "/Users/waranthornchansawang/Desktop/RASH_INSPECTOR/Dataset/ORGAN/step2_selected_data/arm/AD/princ_rm_photo_of_eczema_on_arm.jpg\n",
      "/Users/waranthornchansawang/Desktop/RASH_INSPECTOR/Dataset/ORGAN/step2_selected_data/arm/AD/img0011.jpg\n",
      "/Users/waranthornchansawang/Desktop/RASH_INSPECTOR/Dataset/ORGAN/step2_selected_data/arm/AD/dq040035VB.jpg\n",
      "/Users/waranthornchansawang/Desktop/RASH_INSPECTOR/Dataset/ORGAN/step2_selected_data/arm/AD/flexural-eczema19.jpg\n",
      "/Users/waranthornchansawang/Desktop/RASH_INSPECTOR/Dataset/ORGAN/step2_selected_data/arm/AD/atopic-dermatitis-ad-known-eczema-260nw-699333262.jpg\n"
     ]
    }
   ],
   "source": [
    "for files in glob.glob(original_path):\n",
    "    print(files)\n",
    "    image = Image.open(files)\n",
    "    image = image.resize((224, 224))\n",
    "    resized_image.append(image)"
   ]
  },
  {
   "cell_type": "markdown",
   "metadata": {},
   "source": [
    "# Save Images"
   ]
  },
  {
   "cell_type": "code",
   "execution_count": 7,
   "metadata": {},
   "outputs": [
    {
     "name": "stdout",
     "output_type": "stream",
     "text": [
      "(224, 224)\n",
      "(224, 224)\n",
      "(224, 224)\n",
      "(224, 224)\n",
      "(224, 224)\n",
      "(224, 224)\n",
      "(224, 224)\n",
      "(224, 224)\n",
      "(224, 224)\n",
      "(224, 224)\n",
      "(224, 224)\n",
      "(224, 224)\n",
      "(224, 224)\n",
      "(224, 224)\n",
      "(224, 224)\n",
      "(224, 224)\n",
      "(224, 224)\n",
      "(224, 224)\n",
      "(224, 224)\n",
      "(224, 224)\n",
      "(224, 224)\n",
      "(224, 224)\n",
      "(224, 224)\n",
      "(224, 224)\n",
      "(224, 224)\n",
      "(224, 224)\n",
      "(224, 224)\n",
      "(224, 224)\n",
      "(224, 224)\n",
      "(224, 224)\n",
      "(224, 224)\n",
      "(224, 224)\n",
      "(224, 224)\n",
      "(224, 224)\n",
      "(224, 224)\n",
      "(224, 224)\n",
      "(224, 224)\n",
      "(224, 224)\n",
      "(224, 224)\n",
      "(224, 224)\n",
      "(224, 224)\n",
      "(224, 224)\n",
      "(224, 224)\n",
      "(224, 224)\n",
      "(224, 224)\n",
      "(224, 224)\n",
      "(224, 224)\n",
      "(224, 224)\n",
      "(224, 224)\n",
      "(224, 224)\n",
      "(224, 224)\n",
      "(224, 224)\n",
      "(224, 224)\n",
      "(224, 224)\n",
      "(224, 224)\n",
      "(224, 224)\n",
      "(224, 224)\n",
      "(224, 224)\n",
      "(224, 224)\n",
      "(224, 224)\n",
      "(224, 224)\n",
      "(224, 224)\n",
      "(224, 224)\n"
     ]
    }
   ],
   "source": [
    "for files in resized_image:\n",
    "    #files.show()\n",
    "    print(files.size)"
   ]
  },
  {
   "cell_type": "code",
   "execution_count": 8,
   "metadata": {},
   "outputs": [
    {
     "name": "stdout",
     "output_type": "stream",
     "text": [
      "(224, 224)\n",
      "(224, 224)\n"
     ]
    },
    {
     "ename": "OSError",
     "evalue": "cannot write mode RGBA as JPEG",
     "output_type": "error",
     "traceback": [
      "\u001b[0;31m---------------------------------------------------------------------------\u001b[0m",
      "\u001b[0;31mKeyError\u001b[0m                                  Traceback (most recent call last)",
      "\u001b[0;32m/Library/Frameworks/Python.framework/Versions/3.7/lib/python3.7/site-packages/PIL/JpegImagePlugin.py\u001b[0m in \u001b[0;36m_save\u001b[0;34m(im, fp, filename)\u001b[0m\n\u001b[1;32m    627\u001b[0m     \u001b[0;32mtry\u001b[0m\u001b[0;34m:\u001b[0m\u001b[0;34m\u001b[0m\u001b[0;34m\u001b[0m\u001b[0m\n\u001b[0;32m--> 628\u001b[0;31m         \u001b[0mrawmode\u001b[0m \u001b[0;34m=\u001b[0m \u001b[0mRAWMODE\u001b[0m\u001b[0;34m[\u001b[0m\u001b[0mim\u001b[0m\u001b[0;34m.\u001b[0m\u001b[0mmode\u001b[0m\u001b[0;34m]\u001b[0m\u001b[0;34m\u001b[0m\u001b[0;34m\u001b[0m\u001b[0m\n\u001b[0m\u001b[1;32m    629\u001b[0m     \u001b[0;32mexcept\u001b[0m \u001b[0mKeyError\u001b[0m\u001b[0;34m:\u001b[0m\u001b[0;34m\u001b[0m\u001b[0;34m\u001b[0m\u001b[0m\n",
      "\u001b[0;31mKeyError\u001b[0m: 'RGBA'",
      "\nDuring handling of the above exception, another exception occurred:\n",
      "\u001b[0;31mOSError\u001b[0m                                   Traceback (most recent call last)",
      "\u001b[0;32m<ipython-input-8-87d54d34cfa7>\u001b[0m in \u001b[0;36m<module>\u001b[0;34m\u001b[0m\n\u001b[1;32m      1\u001b[0m \u001b[0;32mfor\u001b[0m \u001b[0;34m(\u001b[0m\u001b[0mfiles\u001b[0m\u001b[0;34m,\u001b[0m \u001b[0mnew_image\u001b[0m\u001b[0;34m)\u001b[0m \u001b[0;32min\u001b[0m \u001b[0menumerate\u001b[0m\u001b[0;34m(\u001b[0m\u001b[0mresized_image\u001b[0m\u001b[0;34m)\u001b[0m\u001b[0;34m:\u001b[0m\u001b[0;34m\u001b[0m\u001b[0;34m\u001b[0m\u001b[0m\n\u001b[0;32m----> 2\u001b[0;31m     \u001b[0mnew_image\u001b[0m\u001b[0;34m.\u001b[0m\u001b[0msave\u001b[0m\u001b[0;34m(\u001b[0m\u001b[0;34m'{}{}{}{}'\u001b[0m\u001b[0;34m.\u001b[0m\u001b[0mformat\u001b[0m\u001b[0;34m(\u001b[0m\u001b[0mresized_path\u001b[0m\u001b[0;34m,\u001b[0m \u001b[0;34m'AD_hand'\u001b[0m\u001b[0;34m,\u001b[0m\u001b[0mfiles\u001b[0m\u001b[0;34m+\u001b[0m\u001b[0;36m1\u001b[0m\u001b[0;34m,\u001b[0m \u001b[0mextension\u001b[0m\u001b[0;34m)\u001b[0m\u001b[0;34m)\u001b[0m\u001b[0;34m\u001b[0m\u001b[0;34m\u001b[0m\u001b[0m\n\u001b[0m\u001b[1;32m      3\u001b[0m     \u001b[0mprint\u001b[0m\u001b[0;34m(\u001b[0m\u001b[0mnew_image\u001b[0m\u001b[0;34m.\u001b[0m\u001b[0msize\u001b[0m\u001b[0;34m)\u001b[0m\u001b[0;34m\u001b[0m\u001b[0;34m\u001b[0m\u001b[0m\n",
      "\u001b[0;32m/Library/Frameworks/Python.framework/Versions/3.7/lib/python3.7/site-packages/PIL/Image.py\u001b[0m in \u001b[0;36msave\u001b[0;34m(self, fp, format, **params)\u001b[0m\n\u001b[1;32m   2086\u001b[0m \u001b[0;34m\u001b[0m\u001b[0m\n\u001b[1;32m   2087\u001b[0m         \u001b[0;32mtry\u001b[0m\u001b[0;34m:\u001b[0m\u001b[0;34m\u001b[0m\u001b[0;34m\u001b[0m\u001b[0m\n\u001b[0;32m-> 2088\u001b[0;31m             \u001b[0msave_handler\u001b[0m\u001b[0;34m(\u001b[0m\u001b[0mself\u001b[0m\u001b[0;34m,\u001b[0m \u001b[0mfp\u001b[0m\u001b[0;34m,\u001b[0m \u001b[0mfilename\u001b[0m\u001b[0;34m)\u001b[0m\u001b[0;34m\u001b[0m\u001b[0;34m\u001b[0m\u001b[0m\n\u001b[0m\u001b[1;32m   2089\u001b[0m         \u001b[0;32mfinally\u001b[0m\u001b[0;34m:\u001b[0m\u001b[0;34m\u001b[0m\u001b[0;34m\u001b[0m\u001b[0m\n\u001b[1;32m   2090\u001b[0m             \u001b[0;31m# do what we can to clean up\u001b[0m\u001b[0;34m\u001b[0m\u001b[0;34m\u001b[0m\u001b[0;34m\u001b[0m\u001b[0m\n",
      "\u001b[0;32m/Library/Frameworks/Python.framework/Versions/3.7/lib/python3.7/site-packages/PIL/JpegImagePlugin.py\u001b[0m in \u001b[0;36m_save\u001b[0;34m(im, fp, filename)\u001b[0m\n\u001b[1;32m    628\u001b[0m         \u001b[0mrawmode\u001b[0m \u001b[0;34m=\u001b[0m \u001b[0mRAWMODE\u001b[0m\u001b[0;34m[\u001b[0m\u001b[0mim\u001b[0m\u001b[0;34m.\u001b[0m\u001b[0mmode\u001b[0m\u001b[0;34m]\u001b[0m\u001b[0;34m\u001b[0m\u001b[0;34m\u001b[0m\u001b[0m\n\u001b[1;32m    629\u001b[0m     \u001b[0;32mexcept\u001b[0m \u001b[0mKeyError\u001b[0m\u001b[0;34m:\u001b[0m\u001b[0;34m\u001b[0m\u001b[0;34m\u001b[0m\u001b[0m\n\u001b[0;32m--> 630\u001b[0;31m         \u001b[0;32mraise\u001b[0m \u001b[0mIOError\u001b[0m\u001b[0;34m(\u001b[0m\u001b[0;34m\"cannot write mode %s as JPEG\"\u001b[0m \u001b[0;34m%\u001b[0m \u001b[0mim\u001b[0m\u001b[0;34m.\u001b[0m\u001b[0mmode\u001b[0m\u001b[0;34m)\u001b[0m\u001b[0;34m\u001b[0m\u001b[0;34m\u001b[0m\u001b[0m\n\u001b[0m\u001b[1;32m    631\u001b[0m \u001b[0;34m\u001b[0m\u001b[0m\n\u001b[1;32m    632\u001b[0m     \u001b[0minfo\u001b[0m \u001b[0;34m=\u001b[0m \u001b[0mim\u001b[0m\u001b[0;34m.\u001b[0m\u001b[0mencoderinfo\u001b[0m\u001b[0;34m\u001b[0m\u001b[0;34m\u001b[0m\u001b[0m\n",
      "\u001b[0;31mOSError\u001b[0m: cannot write mode RGBA as JPEG"
     ]
    }
   ],
   "source": [
    "for (files, new_image) in enumerate(resized_image):\n",
    "    new_image.save('{}{}{}{}'.format(resized_path, 'AD_hand',files+1, extension))\n",
    "    print(new_image.size)"
   ]
  },
  {
   "cell_type": "code",
   "execution_count": null,
   "metadata": {},
   "outputs": [],
   "source": []
  }
 ],
 "metadata": {
  "kernelspec": {
   "display_name": "Python 3",
   "language": "python",
   "name": "python3"
  },
  "language_info": {
   "codemirror_mode": {
    "name": "ipython",
    "version": 3
   },
   "file_extension": ".py",
   "mimetype": "text/x-python",
   "name": "python",
   "nbconvert_exporter": "python",
   "pygments_lexer": "ipython3",
   "version": "3.7.4"
  }
 },
 "nbformat": 4,
 "nbformat_minor": 4
}
