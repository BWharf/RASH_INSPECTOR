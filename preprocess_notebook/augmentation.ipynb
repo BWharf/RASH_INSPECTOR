{
 "cells": [
  {
   "cell_type": "code",
   "execution_count": 1,
   "metadata": {},
   "outputs": [],
   "source": [
    "import cv2\n",
    "import numpy as np\n",
    "import matplotlib.pyplot as plt\n",
    "import matplotlib.image as mping\n",
    "from skimage import exposure\n",
    "from skimage.util import random_noise\n",
    "from skimage import transform"
   ]
  },
  {
   "cell_type": "markdown",
   "metadata": {},
   "source": [
    "# Augmentation"
   ]
  },
  {
   "cell_type": "code",
   "execution_count": 8,
   "metadata": {},
   "outputs": [],
   "source": [
    "def augmentation(src, output):\n",
    "    for i, img in enumerate(glob.glob((src))):\n",
    "        image = mping.imread(img)\n",
    "        horizontal = np.fliplr(image)\n",
    "        vertical = np.flipud(image)\n",
    "        allflip = np.flipud(horizontal)\n",
    "        rotate90 = transform.rotate(image, 90)\n",
    "        rotate270 = transform.rotate(image, 270)\n",
    "        rd_rotate = transform.rotate(image, random.uniform(0, 360))\n",
    "        rd_noise = random_noise(img)        \n",
    "        bright = exposure.adjust_gamma(image, gamma=0.5, gain=1)\n",
    "        noise_bright = random_noise(bright)\n",
    "        dark = exposure.adjust_gamma(img, gamma=1.5, gain=1)\n",
    "        noise_dark = random_noise(dark)\n",
    "        noise_allflip = random_noise(allflip)\n",
    "        noise_rd_rotate = random_noise(rd_rotate)\n",
    "        cv2.imwrite(output)\n",
    "        cv2.imwrite()\n",
    "        cv2.imwrite()\n",
    "        cv2.imwrite()\n",
    "        cv2.imwrite()"
   ]
  },
  {
   "cell_type": "code",
   "execution_count": null,
   "metadata": {},
   "outputs": [],
   "source": [
    "src_path = \n",
    "out_path = "
   ]
  },
  {
   "cell_type": "code",
   "execution_count": null,
   "metadata": {},
   "outputs": [],
   "source": [
    "def random_augmentation(src, out):\n",
    "    "
   ]
  }
 ],
 "metadata": {
  "kernelspec": {
   "display_name": "Python 3",
   "language": "python",
   "name": "python3"
  },
  "language_info": {
   "codemirror_mode": {
    "name": "ipython",
    "version": 3
   },
   "file_extension": ".py",
   "mimetype": "text/x-python",
   "name": "python",
   "nbconvert_exporter": "python",
   "pygments_lexer": "ipython3",
   "version": "3.7.4"
  }
 },
 "nbformat": 4,
 "nbformat_minor": 4
}
