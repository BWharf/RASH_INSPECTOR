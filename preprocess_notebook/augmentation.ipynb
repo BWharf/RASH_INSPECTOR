{
 "cells": [
  {
   "cell_type": "markdown",
   "metadata": {},
   "source": [
    "# Import Libraries"
   ]
  },
  {
   "cell_type": "code",
   "execution_count": 1,
   "metadata": {},
   "outputs": [],
   "source": [
    "import cv2\n",
    "import numpy as np\n",
    "import matplotlib.pyplot as plt\n",
    "import matplotlib.image as mping\n",
    "from skimage import exposure\n",
    "from skimage.util import random_noise\n",
    "from skimage import transform\n",
    "import glob\n",
    "import random"
   ]
  },
  {
   "cell_type": "markdown",
   "metadata": {},
   "source": [
    "# Augmentation"
   ]
  },
  {
   "cell_type": "code",
   "execution_count": 40,
   "metadata": {},
   "outputs": [],
   "source": [
    "def skin_aug(src, output):\n",
    "    for i, img in enumerate(glob.glob((src))):\n",
    "        image = mping.imread(img)\n",
    "        horizontal = np.fliplr(image)\n",
    "        vertical = np.flipud(image)\n",
    "        allflip = np.flipud(horizontal)\n",
    "        rotate90 = transform.rotate(image, 90)\n",
    "        rotate270 = transform.rotate(image, 270)\n",
    "        rd_rotate = transform.rotate(image, random.uniform(0, 360))\n",
    "        rd_noise = random_noise(image)        \n",
    "        bright = exposure.adjust_gamma(image, gamma=0.5, gain=1)\n",
    "        noise_bright = random_noise(bright)\n",
    "        dark = exposure.adjust_gamma(image, gamma=1.5, gain=1)\n",
    "        noise_dark = random_noise(dark)\n",
    "        noise_allflip = random_noise(allflip)\n",
    "        noise_rd_rotate = random_noise(rd_rotate)\n",
    "        plt.imsave(output.format('o', i), image)\n",
    "        plt.imsave(output.format('h', i), horizontal)\n",
    "        plt.imsave(output.format('v', i), vertical)\n",
    "        plt.imsave(output.format('af', i), allflip)\n",
    "        plt.imsave(output.format('rt90', i), rotate90)\n",
    "        plt.imsave(output.format('rt270', i), rotate270)\n",
    "        plt.imsave(output.format('rdrt', i), rd_rotate)\n",
    "        plt.imsave(output.format('rdn', i), rd_noise)\n",
    "        plt.imsave(output.format('b', i), bright)\n",
    "        plt.imsave(output.format('nb', i), noise_bright)\n",
    "        plt.imsave(output.format('d', i), dark)\n",
    "        plt.imsave(output.format('nd', i), noise_dark)\n",
    "        plt.imsave(output.format('naf', i), noise_allflip)\n",
    "        plt.imsave(output.format('nrt', i), rd_noise)"
   ]
  },
  {
   "cell_type": "code",
   "execution_count": 38,
   "metadata": {},
   "outputs": [],
   "source": [
    "src_path = '/Users/waranthornchansawang/Desktop/xxx/arm/AD/*.jpg'\n",
    "out_path = '/Users/waranthornchansawang/Desktop/xxx/ccc/arm_{}_{}.jpg'"
   ]
  },
  {
   "cell_type": "code",
   "execution_count": 39,
   "metadata": {},
   "outputs": [],
   "source": [
    "skin_aug(src_path, out_path)"
   ]
  },
  {
   "cell_type": "code",
   "execution_count": 6,
   "metadata": {},
   "outputs": [
    {
     "ename": "SyntaxError",
     "evalue": "unexpected EOF while parsing (<ipython-input-6-dcf591871a8b>, line 2)",
     "output_type": "error",
     "traceback": [
      "\u001b[0;36m  File \u001b[0;32m\"<ipython-input-6-dcf591871a8b>\"\u001b[0;36m, line \u001b[0;32m2\u001b[0m\n\u001b[0;31m    \u001b[0m\n\u001b[0m    ^\u001b[0m\n\u001b[0;31mSyntaxError\u001b[0m\u001b[0;31m:\u001b[0m unexpected EOF while parsing\n"
     ]
    }
   ],
   "source": [
    "def random_augmentation(src, out):\n",
    "    "
   ]
  },
  {
   "cell_type": "code",
   "execution_count": 24,
   "metadata": {},
   "outputs": [
    {
     "name": "stdout",
     "output_type": "stream",
     "text": [
      "/Users/waranthornchansawang/Desktop/xxx/arm/AD/AD_arm_57.jpg\n",
      "/Users/waranthornchansawang/Desktop/xxx/arm/AD/AD_arm_43.jpg\n",
      "/Users/waranthornchansawang/Desktop/xxx/arm/AD/AD_arm_42.jpg\n",
      "/Users/waranthornchansawang/Desktop/xxx/arm/AD/AD_arm_56.jpg\n",
      "/Users/waranthornchansawang/Desktop/xxx/arm/AD/AD_arm_40.jpg\n",
      "/Users/waranthornchansawang/Desktop/xxx/arm/AD/AD_arm_54.jpg\n",
      "/Users/waranthornchansawang/Desktop/xxx/arm/AD/AD_arm_55.jpg\n",
      "/Users/waranthornchansawang/Desktop/xxx/arm/AD/AD_arm_41.jpg\n",
      "/Users/waranthornchansawang/Desktop/xxx/arm/AD/AD_arm_45.jpg\n",
      "/Users/waranthornchansawang/Desktop/xxx/arm/AD/AD_arm_51.jpg\n",
      "/Users/waranthornchansawang/Desktop/xxx/arm/AD/AD_arm_50.jpg\n",
      "/Users/waranthornchansawang/Desktop/xxx/arm/AD/AD_arm_44.jpg\n",
      "/Users/waranthornchansawang/Desktop/xxx/arm/AD/AD_arm_52.jpg\n",
      "/Users/waranthornchansawang/Desktop/xxx/arm/AD/AD_arm_46.jpg\n",
      "/Users/waranthornchansawang/Desktop/xxx/arm/AD/AD_arm_47.jpg\n",
      "/Users/waranthornchansawang/Desktop/xxx/arm/AD/AD_arm_53.jpg\n",
      "/Users/waranthornchansawang/Desktop/xxx/arm/AD/AD_arm_34.jpg\n",
      "/Users/waranthornchansawang/Desktop/xxx/arm/AD/AD_arm_20.jpg\n",
      "/Users/waranthornchansawang/Desktop/xxx/arm/AD/AD_arm_21.jpg\n",
      "/Users/waranthornchansawang/Desktop/xxx/arm/AD/AD_arm_35.jpg\n",
      "/Users/waranthornchansawang/Desktop/xxx/arm/AD/AD_arm_23.jpg\n",
      "/Users/waranthornchansawang/Desktop/xxx/arm/AD/AD_arm_37.jpg\n",
      "/Users/waranthornchansawang/Desktop/xxx/arm/AD/AD_arm_36.jpg\n",
      "/Users/waranthornchansawang/Desktop/xxx/arm/AD/AD_arm_22.jpg\n",
      "/Users/waranthornchansawang/Desktop/xxx/arm/AD/AD_arm_26.jpg\n",
      "/Users/waranthornchansawang/Desktop/xxx/arm/AD/AD_arm_32.jpg\n",
      "/Users/waranthornchansawang/Desktop/xxx/arm/AD/AD_arm_33.jpg\n",
      "/Users/waranthornchansawang/Desktop/xxx/arm/AD/AD_arm_27.jpg\n",
      "/Users/waranthornchansawang/Desktop/xxx/arm/AD/AD_arm_9.jpg\n",
      "/Users/waranthornchansawang/Desktop/xxx/arm/AD/AD_arm_19.jpg\n",
      "/Users/waranthornchansawang/Desktop/xxx/arm/AD/AD_arm_31.jpg\n",
      "/Users/waranthornchansawang/Desktop/xxx/arm/AD/AD_arm_25.jpg\n",
      "/Users/waranthornchansawang/Desktop/xxx/arm/AD/AD_arm_24.jpg\n",
      "/Users/waranthornchansawang/Desktop/xxx/arm/AD/AD_arm_30.jpg\n",
      "/Users/waranthornchansawang/Desktop/xxx/arm/AD/AD_arm_18.jpg\n",
      "/Users/waranthornchansawang/Desktop/xxx/arm/AD/AD_arm_8.jpg\n",
      "/Users/waranthornchansawang/Desktop/xxx/arm/AD/AD_arm_5.jpg\n",
      "/Users/waranthornchansawang/Desktop/xxx/arm/AD/AD_arm_15.jpg\n",
      "/Users/waranthornchansawang/Desktop/xxx/arm/AD/AD_arm_29.jpg\n",
      "/Users/waranthornchansawang/Desktop/xxx/arm/AD/AD_arm_28.jpg\n",
      "/Users/waranthornchansawang/Desktop/xxx/arm/AD/AD_arm_14.jpg\n",
      "/Users/waranthornchansawang/Desktop/xxx/arm/AD/AD_arm_4.jpg\n",
      "/Users/waranthornchansawang/Desktop/xxx/arm/AD/AD_arm_6.jpg\n",
      "/Users/waranthornchansawang/Desktop/xxx/arm/AD/AD_arm_16.jpg\n",
      "/Users/waranthornchansawang/Desktop/xxx/arm/AD/AD_arm_17.jpg\n",
      "/Users/waranthornchansawang/Desktop/xxx/arm/AD/AD_arm_7.jpg\n",
      "/Users/waranthornchansawang/Desktop/xxx/arm/AD/AD_arm_3.jpg\n",
      "/Users/waranthornchansawang/Desktop/xxx/arm/AD/AD_arm_13.jpg\n",
      "/Users/waranthornchansawang/Desktop/xxx/arm/AD/AD_arm_12.jpg\n",
      "/Users/waranthornchansawang/Desktop/xxx/arm/AD/AD_arm_2.jpg\n",
      "/Users/waranthornchansawang/Desktop/xxx/arm/AD/AD_arm_0.jpg\n",
      "/Users/waranthornchansawang/Desktop/xxx/arm/AD/AD_arm_38.jpg\n",
      "/Users/waranthornchansawang/Desktop/xxx/arm/AD/AD_arm_10.jpg\n",
      "/Users/waranthornchansawang/Desktop/xxx/arm/AD/AD_arm_11.jpg\n",
      "/Users/waranthornchansawang/Desktop/xxx/arm/AD/AD_arm_39.jpg\n",
      "/Users/waranthornchansawang/Desktop/xxx/arm/AD/AD_arm_1.jpg\n",
      "/Users/waranthornchansawang/Desktop/xxx/arm/AD/AD_arm_62.jpg\n",
      "/Users/waranthornchansawang/Desktop/xxx/arm/AD/AD_arm_63.jpg\n",
      "/Users/waranthornchansawang/Desktop/xxx/arm/AD/AD_arm_61.jpg\n",
      "/Users/waranthornchansawang/Desktop/xxx/arm/AD/AD_arm_49.jpg\n",
      "/Users/waranthornchansawang/Desktop/xxx/arm/AD/AD_arm_48.jpg\n",
      "/Users/waranthornchansawang/Desktop/xxx/arm/AD/AD_arm_60.jpg\n",
      "/Users/waranthornchansawang/Desktop/xxx/arm/AD/AD_arm_58.jpg\n",
      "/Users/waranthornchansawang/Desktop/xxx/arm/AD/AD_arm_64.jpg\n",
      "/Users/waranthornchansawang/Desktop/xxx/arm/AD/AD_arm_59.jpg\n"
     ]
    }
   ],
   "source": [
    "for i in glob.glob((src_path)):\n",
    "    image = cv2.imread(i)\n",
    "    print(i)\n",
    "    plt.imsave"
   ]
  },
  {
   "cell_type": "code",
   "execution_count": null,
   "metadata": {},
   "outputs": [],
   "source": []
  }
 ],
 "metadata": {
  "kernelspec": {
   "display_name": "Python 3",
   "language": "python",
   "name": "python3"
  },
  "language_info": {
   "codemirror_mode": {
    "name": "ipython",
    "version": 3
   },
   "file_extension": ".py",
   "mimetype": "text/x-python",
   "name": "python",
   "nbconvert_exporter": "python",
   "pygments_lexer": "ipython3",
   "version": "3.7.4"
  }
 },
 "nbformat": 4,
 "nbformat_minor": 4
}
