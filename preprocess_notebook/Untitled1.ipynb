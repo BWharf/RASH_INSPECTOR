{
 "cells": [
  {
   "cell_type": "code",
   "execution_count": 1,
   "metadata": {},
   "outputs": [],
   "source": [
    "import numpy as np\n",
    "import cv2\n",
    "from scipy.ndimage import zoom\n",
    "import matplotlib.pyplot as plt\n",
    "import matplotlib.image as mping"
   ]
  },
  {
   "cell_type": "code",
   "execution_count": 2,
   "metadata": {},
   "outputs": [],
   "source": [
    "def clipped_zoom(img, zoom_factor, **kwargs):\n",
    "    \n",
    "    image = mping.imread(img)\n",
    "    \n",
    "    width = image.shape[0]\n",
    "    height = image.shape[1]\n",
    "    \n",
    "    zoom_tuple = (zoom_factor,) * 2 + (1,) * (image.ndim - 2)\n",
    "    \n",
    "    if zoom_factor < 1:\n",
    "\n",
    "        # Bounding box of the zoomed-out image within the output array\n",
    "        zh = int(np.round(height * zoom_factor))\n",
    "        zw = int(np.round(width * zoom_factor))\n",
    "        top = (height - zh) // 2\n",
    "        left = (width - zw) // 2\n",
    "\n",
    "        # Zero-padding\n",
    "        out = np.zeros_like(image)\n",
    "        out[top:top+zh, left:left+zw] = zoom(image, zoom_tuple, **kwargs)\n",
    "\n",
    "    # Zooming in\n",
    "    elif zoom_factor > 1:\n",
    "\n",
    "        # Bounding box of the zoomed-in region within the input array\n",
    "        zh = int(np.round(height / zoom_factor))\n",
    "        zw = int(np.round(width / zoom_factor))\n",
    "        top = (height - zh) // 2\n",
    "        left = (width - zw) // 2\n",
    "\n",
    "        out = zoom(image[top:top+zh, left:left+zw], zoom_tuple, **kwargs)\n",
    "\n",
    "\n",
    "        trim_top = ((out.shape[0] - height) // 2)\n",
    "        trim_left = ((out.shape[1] - width) // 2)\n",
    "        out = out[trim_top:trim_top+height, trim_left:trim_left+width]\n",
    "        #zoom_image = mping.imsave()\n",
    "    # If zoom_factor == 1, just return the input array\n",
    "    else:\n",
    "        out = image\n",
    "        \n",
    "    return out\n",
    "\n"
   ]
  },
  {
   "cell_type": "code",
   "execution_count": 3,
   "metadata": {},
   "outputs": [],
   "source": [
    "img = '/Users/waranthornchansawang/Desktop/xxx/arm/AD/AD_arm_37.jpg'"
   ]
  },
  {
   "cell_type": "code",
   "execution_count": 6,
   "metadata": {},
   "outputs": [
    {
     "data": {
      "text/plain": [
       "<matplotlib.image.AxesImage at 0x12627a450>"
      ]
     },
     "execution_count": 6,
     "metadata": {},
     "output_type": "execute_result"
    },
    {
     "data": {
      "image/png": "[encoded data removed]",
      "text/plain": [
       "<Figure size 432x288 with 1 Axes>"
      ]
     },
     "metadata": {
      "needs_background": "light"
     },
     "output_type": "display_data"
    }
   ],
   "source": [
    "zm1 = clipped_zoom(img, 0.33)\n",
    "zm2 = clipped_zoom(img, 1.5)\n",
    "#print(zm1)\n",
    "mping.imsave('/Users/waranthornchansawang/Desktop/xxx/vvv/x.jpg', zm1)\n",
    "#ax[0].imshow(img)\n",
    "plt.imshow(zm1)\n",
    "\n",
    "#ax[2].imshow(zm2)"
   ]
  },
  {
   "cell_type": "code",
   "execution_count": null,
   "metadata": {},
   "outputs": [],
   "source": []
  },
  {
   "cell_type": "code",
   "execution_count": null,
   "metadata": {},
   "outputs": [],
   "source": []
  }
 ],
 "metadata": {
  "kernelspec": {
   "display_name": "Python 3",
   "language": "python",
   "name": "python3"
  },
  "language_info": {
   "codemirror_mode": {
    "name": "ipython",
    "version": 3
   },
   "file_extension": ".py",
   "mimetype": "text/x-python",
   "name": "python",
   "nbconvert_exporter": "python",
   "pygments_lexer": "ipython3",
   "version": "3.7.4"
  }
 },
 "nbformat": 4,
 "nbformat_minor": 4
}
