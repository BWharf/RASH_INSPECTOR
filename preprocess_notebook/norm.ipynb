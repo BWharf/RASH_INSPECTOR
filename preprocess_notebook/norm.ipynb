{
 "cells": [
  {
   "cell_type": "code",
   "execution_count": 5,
   "metadata": {},
   "outputs": [],
   "source": [
    "import cv2\n",
    "import numpy as np\n",
    "import glob"
   ]
  },
  {
   "cell_type": "code",
   "execution_count": 6,
   "metadata": {},
   "outputs": [],
   "source": [
    "data_path = glob.glob('/Users/waranthornchansawang/Desktop/RASH_INSPECTOR/Dataset/original_data/Allergy/AtopicDermatitis/arm/*.jpg')\n",
    "\n",
    "new_path = '/Users/waranthornchansawang/Desktop/RASH_INSPECTOR/Dataset/renorm/AtopicDermatitis/arm2/norm_{}.jpg'"
   ]
  },
  {
   "cell_type": "code",
   "execution_count": 8,
   "metadata": {},
   "outputs": [],
   "source": [
    "def resize(input_path, output_path):\n",
    "    \n",
    "    image_size = 224\n",
    "    dim = (image_size, image_size)\n",
    "    \n",
    "    for i, img in enumerate(input_path):\n",
    "        image = cv2.imread(img, -1)\n",
    "        resized_image = cv2.resize(image, dim)\n",
    "        cv2.imwrite(output_path.format(i), resized_image)"
   ]
  },
  {
   "cell_type": "code",
   "execution_count": 9,
   "metadata": {},
   "outputs": [],
   "source": [
    "resize(data_path, new_path)"
   ]
  },
  {
   "cell_type": "code",
   "execution_count": 13,
   "metadata": {},
   "outputs": [],
   "source": [
    "x=cv2.imread('/Users/waranthornchansawang/Desktop/RASH_INSPECTOR/Dataset/renorm/AtopicDermatitis/arm/norm_20.jpg')"
   ]
  },
  {
   "cell_type": "code",
   "execution_count": 14,
   "metadata": {},
   "outputs": [
    {
     "name": "stdout",
     "output_type": "stream",
     "text": [
      "[[[255 176 105]\n",
      "  [254 174 103]\n",
      "  [248 170  99]\n",
      "  ...\n",
      "  [253 203 150]\n",
      "  [253 203 150]\n",
      "  [255 206 153]]\n",
      "\n",
      " [[255 176 105]\n",
      "  [255 175 104]\n",
      "  [251 171 100]\n",
      "  ...\n",
      "  [254 204 151]\n",
      "  [253 203 150]\n",
      "  [255 206 153]]\n",
      "\n",
      " [[255 174 103]\n",
      "  [254 174 103]\n",
      "  [251 171 100]\n",
      "  ...\n",
      "  [254 204 151]\n",
      "  [252 202 149]\n",
      "  [255 205 152]]\n",
      "\n",
      " ...\n",
      "\n",
      " [[203 113  25]\n",
      "  [204 114  26]\n",
      "  [205 115  27]\n",
      "  ...\n",
      "  [255 188 123]\n",
      "  [255 187 122]\n",
      "  [255 187 122]]\n",
      "\n",
      " [[202 112  24]\n",
      "  [204 114  26]\n",
      "  [205 115  27]\n",
      "  ...\n",
      "  [255 188 123]\n",
      "  [252 185 122]\n",
      "  [253 186 123]]\n",
      "\n",
      " [[202 112  24]\n",
      "  [204 114  26]\n",
      "  [206 116  28]\n",
      "  ...\n",
      "  [255 188 123]\n",
      "  [251 184 121]\n",
      "  [252 185 122]]]\n"
     ]
    }
   ],
   "source": [
    "print(x)"
   ]
  },
  {
   "cell_type": "code",
   "execution_count": 15,
   "metadata": {},
   "outputs": [],
   "source": [
    "y = cv2.imread('/Users/waranthornchansawang/Desktop/RASH_INSPECTOR/Dataset/renorm/AtopicDermatitis/arm2/norm_20.jpg')"
   ]
  },
  {
   "cell_type": "code",
   "execution_count": 16,
   "metadata": {},
   "outputs": [
    {
     "name": "stdout",
     "output_type": "stream",
     "text": [
      "[[[255 185 122]\n",
      "  [255 184 121]\n",
      "  [252 181 118]\n",
      "  ...\n",
      "  [254 211 162]\n",
      "  [253 210 161]\n",
      "  [255 214 165]]\n",
      "\n",
      " [[255 185 122]\n",
      "  [255 185 122]\n",
      "  [253 182 119]\n",
      "  ...\n",
      "  [254 211 162]\n",
      "  [253 210 161]\n",
      "  [255 213 164]]\n",
      "\n",
      " [[255 182 120]\n",
      "  [255 183 121]\n",
      "  [252 181 118]\n",
      "  ...\n",
      "  [254 211 162]\n",
      "  [252 209 160]\n",
      "  [255 212 163]]\n",
      "\n",
      " ...\n",
      "\n",
      " [[209 130  51]\n",
      "  [210 131  52]\n",
      "  [210 131  52]\n",
      "  ...\n",
      "  [255 196 137]\n",
      "  [255 195 136]\n",
      "  [255 195 136]]\n",
      "\n",
      " [[209 129  52]\n",
      "  [210 130  53]\n",
      "  [211 131  54]\n",
      "  ...\n",
      "  [255 196 137]\n",
      "  [253 195 136]\n",
      "  [253 195 136]]\n",
      "\n",
      " [[208 128  51]\n",
      "  [210 130  53]\n",
      "  [212 132  55]\n",
      "  ...\n",
      "  [255 196 137]\n",
      "  [253 195 136]\n",
      "  [252 194 135]]]\n"
     ]
    }
   ],
   "source": [
    "print(y)"
   ]
  },
  {
   "cell_type": "code",
   "execution_count": null,
   "metadata": {},
   "outputs": [],
   "source": []
  }
 ],
 "metadata": {
  "kernelspec": {
   "display_name": "Python 3",
   "language": "python",
   "name": "python3"
  },
  "language_info": {
   "codemirror_mode": {
    "name": "ipython",
    "version": 3
   },
   "file_extension": ".py",
   "mimetype": "text/x-python",
   "name": "python",
   "nbconvert_exporter": "python",
   "pygments_lexer": "ipython3",
   "version": "3.7.4"
  }
 },
 "nbformat": 4,
 "nbformat_minor": 2
}
