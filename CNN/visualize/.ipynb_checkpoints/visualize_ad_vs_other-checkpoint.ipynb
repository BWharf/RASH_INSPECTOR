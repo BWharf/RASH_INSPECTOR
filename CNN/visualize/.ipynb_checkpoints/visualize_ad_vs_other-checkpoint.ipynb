{
 "cells": [
  {
   "cell_type": "markdown",
   "metadata": {},
   "source": [
    "# Import Libraries"
   ]
  },
  {
   "cell_type": "code",
   "execution_count": 1,
   "metadata": {},
   "outputs": [],
   "source": [
    "import matplotlib.pyplot as plt\n",
    "import glob\n",
    "import matplotlib.image as mpimg\n",
    "import os\n",
    "import numpy as np"
   ]
  },
  {
   "cell_type": "code",
   "execution_count": 2,
   "metadata": {},
   "outputs": [
    {
     "name": "stdout",
     "output_type": "stream",
     "text": [
      "\u001b[34mAtopicDermatitis\u001b[m\u001b[m \u001b[34mOther\u001b[m\u001b[m\n"
     ]
    }
   ],
   "source": [
    "!ls ./Dataset/original_data"
   ]
  },
  {
   "cell_type": "markdown",
   "metadata": {},
   "source": [
    "# Arm"
   ]
  },
  {
   "cell_type": "code",
   "execution_count": 3,
   "metadata": {},
   "outputs": [
    {
     "name": "stdout",
     "output_type": "stream",
     "text": [
      "Number of Arm Images\n",
      "Atopic Dermatitis 65\n",
      "\n",
      "Psoriasis Vulgaris 14\n",
      "Vitiligo 5\n",
      "Total Other 19\n",
      "\n",
      "Total 84\n"
     ]
    },
    {
     "data": {
      "image/png": "[encoded data removed]",
      "text/plain": [
       "<Figure size 864x288 with 1 Axes>"
      ]
     },
     "metadata": {
      "needs_background": "light"
     },
     "output_type": "display_data"
    }
   ],
   "source": [
    "print('Number of Arm Images')\n",
    "\n",
    "ad_arm_path = './Dataset/original_data/AtopicDermatitis/arm/'\n",
    "num_ad_arm = len(os.listdir(ad_arm_path))-1\n",
    "print('Atopic Dermatitis', num_ad_arm)\n",
    "\n",
    "print('')\n",
    "\n",
    "pv_arm_path = './Dataset/original_data/Other/PsoriasisVulgaris/arm/'\n",
    "num_pv_arm = len(os.listdir(pv_arm_path))\n",
    "print('Psoriasis Vulgaris', num_pv_arm)\n",
    "\n",
    "vt_arm_path = './Dataset/original_data/Other/Vitiligo/arm/'\n",
    "num_vt_arm = len(os.listdir(vt_arm_path))-1\n",
    "print('Vitiligo', num_vt_arm)\n",
    "\n",
    "total_other_arm = num_vt_arm + num_pv_arm\n",
    "print('Total Other', total_other_arm)\n",
    "\n",
    "print('')\n",
    "\n",
    "total_arm = num_ad_arm + total_other_arm\n",
    "print('Total', total_arm)\n",
    "\n",
    "classes = ['Atopic Dermatits', 'Other']\n",
    "number_image = [num_ad_arm, total_other_arm]\n",
    "num_classes = np.arange(len(classes))\n",
    "\n",
    "plt.figure(figsize=(12, 4))\n",
    "plt.bar(num_classes, number_image)\n",
    "plt.xticks(num_classes, classes, fontsize=15)\n",
    "plt.xlabel('Classes')\n",
    "plt.ylabel('Number of Picture')\n",
    "plt.show()"
   ]
  },
  {
   "cell_type": "markdown",
   "metadata": {},
   "source": [
    "# Bodyskin"
   ]
  },
  {
   "cell_type": "code",
   "execution_count": 4,
   "metadata": {},
   "outputs": [
    {
     "name": "stdout",
     "output_type": "stream",
     "text": [
      "Number of Bodyskin Images\n",
      "Atopic Dermatitis 38\n",
      "\n",
      "Psoriasis Vulgaris 73\n",
      "SeborrhoeicDermatitis 5\n",
      "SeborrhoeicKeratosis 74\n",
      "Vitiligo 16\n",
      "Total Other 168\n",
      "\n",
      "Total 206\n"
     ]
    },
    {
     "data": {
      "image/png": "[encoded data removed]",
      "text/plain": [
       "<Figure size 864x288 with 1 Axes>"
      ]
     },
     "metadata": {
      "needs_background": "light"
     },
     "output_type": "display_data"
    }
   ],
   "source": [
    "print('Number of Bodyskin Images')\n",
    "\n",
    "ad_bodyskin_path = './Dataset/original_data/AtopicDermatitis/bodyskin/'\n",
    "num_ad_bodyskin = len(os.listdir(ad_bodyskin_path))-1\n",
    "print('Atopic Dermatitis', num_ad_bodyskin)\n",
    "\n",
    "print('')\n",
    "\n",
    "#av_bodyskin_path = './Dataset/original_data/Other/AcneVulgaris/bodyskin/'\n",
    "#num_av_bodyskin = len(os.listdir(av_bodyskin_path))-1\n",
    "#print('Acne Vulgaris', num_av_bodyskin)\n",
    "\n",
    "pv_bodyskin_path = './Dataset/original_data/Other/PsoriasisVulgaris/bodyskin/'\n",
    "num_pv_bodyskin = len(os.listdir(pv_bodyskin_path))-1\n",
    "print('Psoriasis Vulgaris', num_pv_bodyskin)\n",
    "\n",
    "sd_bodyskin_path = './Dataset/original_data/Other/SeborrhoeicDermatitis/bodyskin/'\n",
    "num_sd_bodyskin = len(os.listdir(sd_bodyskin_path))-1\n",
    "print('SeborrhoeicDermatitis', num_sd_bodyskin)\n",
    "\n",
    "sk_bodyskin_path = './Dataset/original_data/Other/SeborrhoeicKeratosis/bodyskin/'\n",
    "num_sk_bodyskin = len(os.listdir(sk_bodyskin_path))-1\n",
    "print('SeborrhoeicKeratosis', num_sk_bodyskin)\n",
    "\n",
    "vt_bodyskin_path = './Dataset/original_data/Other/Vitiligo/bodyskin/'\n",
    "num_vt_bodyskin = len(os.listdir(vt_bodyskin_path))-1\n",
    "print('Vitiligo', num_vt_bodyskin)\n",
    "\n",
    "total_other_bodyskin = num_pv_bodyskin + num_vt_bodyskin + num_sd_bodyskin + num_sk_bodyskin\n",
    "print('Total Other', total_other_bodyskin)\n",
    "\n",
    "print('')\n",
    "\n",
    "total_bodyskin = num_ad_bodyskin + total_other_bodyskin\n",
    "print('Total', total_bodyskin)\n",
    "\n",
    "classes = ['Atopic Dermatits', 'Other']\n",
    "number_image = [num_ad_bodyskin, total_other_bodyskin]\n",
    "num_classes = np.arange(len(classes))\n",
    "\n",
    "plt.figure(figsize=(12, 4))\n",
    "plt.bar(num_classes, number_image)\n",
    "plt.xticks(num_classes, classes, fontsize=8)\n",
    "plt.xlabel('Classes')\n",
    "plt.ylabel('Number of Picture')\n",
    "plt.show()"
   ]
  },
  {
   "cell_type": "markdown",
   "metadata": {},
   "source": [
    "# Ear"
   ]
  },
  {
   "cell_type": "code",
   "execution_count": 5,
   "metadata": {},
   "outputs": [
    {
     "name": "stdout",
     "output_type": "stream",
     "text": [
      "Number of Ear Images\n",
      "Atopic Dermatitis 4\n",
      "\n",
      "Psoriasis Vulgaris 6\n",
      "Total Other 6\n",
      "\n",
      "Total 10\n"
     ]
    },
    {
     "data": {
      "image/png": "[encoded data removed]",
      "text/plain": [
       "<Figure size 864x288 with 1 Axes>"
      ]
     },
     "metadata": {
      "needs_background": "light"
     },
     "output_type": "display_data"
    }
   ],
   "source": [
    "print('Number of Ear Images')\n",
    "\n",
    "ad_ear_path = './Dataset/original_data/AtopicDermatitis/ear/'\n",
    "num_ad_ear = len(os.listdir(ad_ear_path))-1\n",
    "print('Atopic Dermatitis', num_ad_ear)\n",
    "\n",
    "print('')\n",
    "\n",
    "pv_ear_path = './Dataset/original_data/Other/PsoriasisVulgaris/ear/'\n",
    "num_pv_ear = len(os.listdir(pv_ear_path))-1\n",
    "print('Psoriasis Vulgaris', num_pv_ear)\n",
    "\n",
    "total_other_ear = num_pv_ear\n",
    "print('Total Other', total_other_ear)\n",
    "\n",
    "print('')\n",
    "\n",
    "total_ear = num_ad_ear + total_other_ear\n",
    "print('Total', total_ear)\n",
    "\n",
    "classes = ['Atopic Dermatits', 'Other']\n",
    "number_image = [num_ad_ear, total_other_ear]\n",
    "num_classes = np.arange(len(classes))\n",
    "\n",
    "plt.figure(figsize=(12, 4))\n",
    "plt.bar(num_classes, number_image)\n",
    "plt.xticks(num_classes, classes, fontsize=15)\n",
    "plt.xlabel('Classes')\n",
    "plt.ylabel('Number of Picture')\n",
    "plt.show()"
   ]
  },
  {
   "cell_type": "markdown",
   "metadata": {},
   "source": [
    "# Eye"
   ]
  },
  {
   "cell_type": "code",
   "execution_count": 6,
   "metadata": {},
   "outputs": [
    {
     "name": "stdout",
     "output_type": "stream",
     "text": [
      "Number of Eye Images\n",
      "Atopic Dermatitis 19\n",
      "\n",
      "Seborrhoeic Keratosis 6\n",
      "Total Other 6\n",
      "\n",
      "Total 25\n"
     ]
    },
    {
     "data": {
      "image/png": "[encoded data removed]",
      "text/plain": [
       "<Figure size 864x288 with 1 Axes>"
      ]
     },
     "metadata": {
      "needs_background": "light"
     },
     "output_type": "display_data"
    }
   ],
   "source": [
    "print('Number of Eye Images')\n",
    "\n",
    "ad_eye_path = './Dataset/original_data/AtopicDermatitis/eye/'\n",
    "num_ad_eye = len(os.listdir(ad_eye_path))-1\n",
    "print('Atopic Dermatitis', num_ad_eye)\n",
    "\n",
    "print('')\n",
    "\n",
    "sk_eye_path = './Dataset/original_data/Other/SeborrhoeicKeratosis/eye/'\n",
    "num_sk_eye = len(os.listdir(sk_eye_path))-1\n",
    "print('Seborrhoeic Keratosis', num_sk_eye)\n",
    "\n",
    "total_other_eye = num_sk_eye\n",
    "print('Total Other', total_other_eye)\n",
    "\n",
    "print('')\n",
    "\n",
    "total_eye = num_ad_eye + total_other_eye\n",
    "print('Total', total_eye)\n",
    "\n",
    "classes = ['Atopic Dermatits', 'Other']\n",
    "number_image = [num_ad_eye, total_other_eye]\n",
    "num_classes = np.arange(len(classes))\n",
    "\n",
    "plt.figure(figsize=(12, 4))\n",
    "plt.bar(num_classes, number_image)\n",
    "plt.xticks(num_classes, classes, fontsize=15)\n",
    "plt.xlabel('Classes')\n",
    "plt.ylabel('Number of Picture')\n",
    "plt.show()"
   ]
  },
  {
   "cell_type": "markdown",
   "metadata": {},
   "source": [
    "# Face"
   ]
  },
  {
   "cell_type": "code",
   "execution_count": 7,
   "metadata": {},
   "outputs": [
    {
     "name": "stdout",
     "output_type": "stream",
     "text": [
      "Number of Face Images\n",
      "Melasma 13\n",
      "Psoriasis Vulgaris 1\n",
      "Seborrhoeic Dermatitis 29\n",
      "\n",
      "Total 43\n"
     ]
    },
    {
     "data": {
      "image/png": "[encoded data removed]",
      "text/plain": [
       "<Figure size 864x288 with 1 Axes>"
      ]
     },
     "metadata": {
      "needs_background": "light"
     },
     "output_type": "display_data"
    }
   ],
   "source": [
    "print('Number of Face Images')\n",
    "\n",
    "#av_face_path = './Dataset/original_data/Other/AcneVulgaris/face/'\n",
    "#num_av_face = len(os.listdir(av_face_path))-1\n",
    "#print('Acne Vulgaris', num_av_face)\n",
    "\n",
    "ml_face_path = './Dataset/original_data/Other/Melasma/face/'\n",
    "num_ml_face = len(os.listdir(ml_face_path))-1\n",
    "print('Melasma', num_ml_face)\n",
    "\n",
    "pv_face_path = './Dataset/original_data/Other/PsoriasisVulgaris/face/'\n",
    "num_pv_face = len(os.listdir(pv_face_path))-1\n",
    "print('Psoriasis Vulgaris', num_pv_face)\n",
    "\n",
    "sd_face_path = './Dataset/original_data/Other/SeborrhoeicDermatitis/face/'\n",
    "num_sd_face = len(os.listdir(sd_face_path))-1\n",
    "print('Seborrhoeic Dermatitis', num_sd_face)\n",
    "\n",
    "print('')\n",
    "\n",
    "total_face = + num_ml_face + num_pv_face + num_sd_face\n",
    "print('Total', total_face)\n",
    "\n",
    "classes = ['Melasma', 'Psoriasis Vulgaris', 'Seborrhoeic Dermatitis']\n",
    "number_image = [num_ml_face, num_pv_face, num_sd_face]\n",
    "num_classes = np.arange(len(classes))\n",
    "\n",
    "plt.figure(figsize=(12, 4))\n",
    "plt.bar(num_classes, number_image)\n",
    "plt.xticks(num_classes, classes, fontsize=12)\n",
    "plt.xlabel('Classes')\n",
    "plt.ylabel('Number of Picture')\n",
    "plt.show()"
   ]
  },
  {
   "cell_type": "markdown",
   "metadata": {},
   "source": [
    "# Hand"
   ]
  },
  {
   "cell_type": "code",
   "execution_count": 8,
   "metadata": {},
   "outputs": [
    {
     "name": "stdout",
     "output_type": "stream",
     "text": [
      "Number of Hand Images\n",
      "Atopic Dermatitis 10\n",
      "\n",
      "Psoriasis Vulgaris 4\n",
      "Vitiligo 17\n",
      "Total 21\n",
      "\n",
      "Total 31\n"
     ]
    },
    {
     "data": {
      "image/png": "[encoded data removed]",
      "text/plain": [
       "<Figure size 864x288 with 1 Axes>"
      ]
     },
     "metadata": {
      "needs_background": "light"
     },
     "output_type": "display_data"
    }
   ],
   "source": [
    "print('Number of Hand Images')\n",
    "\n",
    "ad_hand_path = './Dataset/original_data/AtopicDermatitis/hand/'\n",
    "num_ad_hand = len(os.listdir(ad_hand_path))-1\n",
    "print('Atopic Dermatitis', num_ad_hand)\n",
    "\n",
    "print('')\n",
    "\n",
    "pv_hand_path = './Dataset/original_data/Other/PsoriasisVulgaris/hand/'\n",
    "num_pv_hand = len(os.listdir(pv_hand_path))-1\n",
    "print('Psoriasis Vulgaris', num_pv_hand)\n",
    "\n",
    "vt_hand_path = './Dataset/original_data/Other/Vitiligo/hand/'\n",
    "num_vt_hand = len(os.listdir(vt_hand_path))-1\n",
    "print('Vitiligo', num_vt_hand)\n",
    "\n",
    "total_other_hand = num_pv_hand + num_vt_hand\n",
    "print('Total', total_other_hand)\n",
    "\n",
    "print('')\n",
    "\n",
    "total_hand = num_ad_hand  + total_other_hand\n",
    "print('Total', total_hand)\n",
    "\n",
    "classes = ['Atopic Dermatits', 'Other']\n",
    "number_image = [num_ad_hand, total_other_hand]\n",
    "num_classes = np.arange(len(classes))\n",
    "\n",
    "plt.figure(figsize=(12, 4))\n",
    "plt.bar(num_classes, number_image)\n",
    "plt.xticks(num_classes, classes, fontsize=15)\n",
    "plt.xlabel('Classes')\n",
    "plt.ylabel('Number of Picture')\n",
    "plt.show()"
   ]
  },
  {
   "cell_type": "markdown",
   "metadata": {},
   "source": [
    "# Leg"
   ]
  },
  {
   "cell_type": "code",
   "execution_count": 9,
   "metadata": {},
   "outputs": [
    {
     "name": "stdout",
     "output_type": "stream",
     "text": [
      "Number of Leg Images\n",
      "Atopic Dermatitis 27\n",
      "\n",
      "Psoriasis Vulgaris 18\n",
      "Vitiligo 7\n",
      "Total Other 25\n",
      "\n",
      "Total 52\n"
     ]
    },
    {
     "data": {
      "image/png": "[encoded data removed]",
      "text/plain": [
       "<Figure size 864x288 with 1 Axes>"
      ]
     },
     "metadata": {
      "needs_background": "light"
     },
     "output_type": "display_data"
    }
   ],
   "source": [
    "print('Number of Leg Images')\n",
    "\n",
    "ad_leg_path = './Dataset/original_data/AtopicDermatitis/leg/'\n",
    "num_ad_leg = len(os.listdir(ad_leg_path))-1\n",
    "print('Atopic Dermatitis', num_ad_leg)\n",
    "\n",
    "print('')\n",
    "\n",
    "pv_leg_path = './Dataset/original_data/Other/PsoriasisVulgaris/leg/'\n",
    "num_pv_leg = len(os.listdir(pv_leg_path))-1\n",
    "print('Psoriasis Vulgaris', num_pv_leg)\n",
    "\n",
    "vt_leg_path = './Dataset/original_data/Other/Vitiligo/leg/'\n",
    "num_vt_leg = len(os.listdir(vt_leg_path))-1\n",
    "print('Vitiligo', num_vt_leg)\n",
    "\n",
    "total_other_leg = num_pv_leg + num_vt_leg\n",
    "print('Total Other', total_other_leg)\n",
    "\n",
    "print('')\n",
    "\n",
    "total_leg = num_ad_leg + total_other_leg\n",
    "print('Total', total_leg)\n",
    "\n",
    "classes = ['Atopic Dermatits', 'Other']\n",
    "number_image = [num_ad_leg, total_other_leg]\n",
    "num_classes = np.arange(len(classes))\n",
    "\n",
    "plt.figure(figsize=(12, 4))\n",
    "plt.bar(num_classes, number_image)\n",
    "plt.xticks(num_classes, classes, fontsize=15)\n",
    "plt.xlabel('Classes')\n",
    "plt.ylabel('Number of Picture')\n",
    "plt.show()"
   ]
  },
  {
   "cell_type": "markdown",
   "metadata": {},
   "source": [
    "# Total Atopic Dermatitis"
   ]
  },
  {
   "cell_type": "code",
   "execution_count": 10,
   "metadata": {},
   "outputs": [
    {
     "name": "stdout",
     "output_type": "stream",
     "text": [
      "Total Atopic 163\n"
     ]
    }
   ],
   "source": [
    "total_ad_data = num_ad_arm + num_ad_bodyskin + num_ad_ear + num_ad_eye  + num_ad_hand + num_ad_leg\n",
    "print('Total Atopic', total_ad_data)"
   ]
  },
  {
   "cell_type": "markdown",
   "metadata": {},
   "source": [
    "# Total Other"
   ]
  },
  {
   "cell_type": "code",
   "execution_count": 11,
   "metadata": {},
   "outputs": [
    {
     "name": "stdout",
     "output_type": "stream",
     "text": [
      "Total Other 245\n"
     ]
    }
   ],
   "source": [
    "total_other_data = total_other_arm + total_other_bodyskin + total_other_ear + total_other_eye  + total_other_hand + total_other_leg\n",
    "print('Total Other', total_other_data)"
   ]
  },
  {
   "cell_type": "markdown",
   "metadata": {},
   "source": [
    "# Total Dataset"
   ]
  },
  {
   "cell_type": "code",
   "execution_count": 12,
   "metadata": {},
   "outputs": [
    {
     "name": "stdout",
     "output_type": "stream",
     "text": [
      "Total Dataset 451\n"
     ]
    }
   ],
   "source": [
    "total_data = total_arm + total_bodyskin + total_ear + total_eye + total_face + total_hand + total_leg\n",
    "print('Total Dataset', total_data)"
   ]
  },
  {
   "cell_type": "markdown",
   "metadata": {},
   "source": [
    "# Atopic Dermatitis VS Other"
   ]
  },
  {
   "cell_type": "code",
   "execution_count": 13,
   "metadata": {},
   "outputs": [
    {
     "data": {
      "image/png": "[encoded data removed]",
      "text/plain": [
       "<Figure size 864x288 with 1 Axes>"
      ]
     },
     "metadata": {
      "needs_background": "light"
     },
     "output_type": "display_data"
    }
   ],
   "source": [
    "classes = ['Atopic Dermatits', 'Other']\n",
    "number_image = [total_ad_data, total_other_data]\n",
    "num_classes = np.arange(len(classes))\n",
    "\n",
    "plt.figure(figsize=(12, 4))\n",
    "plt.bar(num_classes, number_image)\n",
    "plt.xticks(num_classes, classes, fontsize=15)\n",
    "plt.xlabel('Classes')\n",
    "plt.ylabel('Number of Picture')\n",
    "plt.show()"
   ]
  }
 ],
 "metadata": {
  "kernelspec": {
   "display_name": "Python 3",
   "language": "python",
   "name": "python3"
  },
  "language_info": {
   "codemirror_mode": {
    "name": "ipython",
    "version": 3
   },
   "file_extension": ".py",
   "mimetype": "text/x-python",
   "name": "python",
   "nbconvert_exporter": "python",
   "pygments_lexer": "ipython3",
   "version": "3.7.4"
  }
 },
 "nbformat": 4,
 "nbformat_minor": 4
}
