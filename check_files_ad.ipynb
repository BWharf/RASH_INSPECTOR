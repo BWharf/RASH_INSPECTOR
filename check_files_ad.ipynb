{
 "cells": [
  {
   "cell_type": "markdown",
   "metadata": {},
   "source": [
    "# Check files in AtopicDermatitis folder"
   ]
  },
  {
   "cell_type": "code",
   "execution_count": 1,
   "metadata": {},
   "outputs": [],
   "source": [
    "import os"
   ]
  },
  {
   "cell_type": "code",
   "execution_count": 2,
   "metadata": {},
   "outputs": [
    {
     "name": "stdout",
     "output_type": "stream",
     "text": [
      "num_ad_arm =  41\n"
     ]
    }
   ],
   "source": [
    "ad_arm = './Dataset/original_data/AtopicDermatitis/arm'\n",
    "num_ad_arm = len([name for name in os.listdir(ad_arm) if os.path.isfile(os.path.join(ad_arm, name))])\n",
    "print('num_ad_arm = ', num_ad_arm)"
   ]
  },
  {
   "cell_type": "code",
   "execution_count": 3,
   "metadata": {},
   "outputs": [
    {
     "name": "stdout",
     "output_type": "stream",
     "text": [
      "num_ad_bodyskin =  22\n"
     ]
    }
   ],
   "source": [
    "ad_bodyskin = './Dataset/original_data/AtopicDermatitis/bodyskin'\n",
    "num_ad_bodyskin = len([name for name in os.listdir(ad_bodyskin) if os.path.isfile(os.path.join(ad_bodyskin, name))])\n",
    "print('num_ad_bodyskin = ' , num_ad_bodyskin)"
   ]
  },
  {
   "cell_type": "code",
   "execution_count": 4,
   "metadata": {},
   "outputs": [
    {
     "name": "stdout",
     "output_type": "stream",
     "text": [
      "num_ad_ear =  4\n"
     ]
    }
   ],
   "source": [
    "ad_ear = './Dataset/original_data/AtopicDermatitis/ear'\n",
    "num_ad_ear = len([name for name in os.listdir(ad_ear) if os.path.isfile(os.path.join(ad_ear, name))])\n",
    "print('num_ad_ear = ', num_ad_ear)"
   ]
  },
  {
   "cell_type": "code",
   "execution_count": 5,
   "metadata": {},
   "outputs": [
    {
     "name": "stdout",
     "output_type": "stream",
     "text": [
      "num_ad_eye =  4\n"
     ]
    }
   ],
   "source": [
    "ad_eye = './Dataset/original_data/AtopicDermatitis/eye'\n",
    "num_ad_eye = len([name for name in os.listdir(ad_eye) if os.path.isfile(os.path.join(ad_eye, name))])\n",
    "print('num_ad_eye = ', num_ad_eye)"
   ]
  },
  {
   "cell_type": "code",
   "execution_count": 6,
   "metadata": {},
   "outputs": [
    {
     "name": "stdout",
     "output_type": "stream",
     "text": [
      "num_ad_hand =  6\n"
     ]
    }
   ],
   "source": [
    "ad_hand = './Dataset/original_data/AtopicDermatitis/hand'\n",
    "num_ad_hand = len([name for name in os.listdir(ad_hand) if os.path.isfile(os.path.join(ad_hand, name))])\n",
    "print('num_ad_hand = ', num_ad_hand)"
   ]
  },
  {
   "cell_type": "code",
   "execution_count": 7,
   "metadata": {},
   "outputs": [
    {
     "name": "stdout",
     "output_type": "stream",
     "text": [
      "num_ad_leg =  15\n"
     ]
    }
   ],
   "source": [
    "ad_leg = './Dataset/original_data/AtopicDermatitis/leg'\n",
    "num_ad_leg = len([name for name in os.listdir(ad_leg) if os.path.isfile(os.path.join(ad_leg, name))]) \n",
    "print('num_ad_leg = ', num_ad_leg)"
   ]
  },
  {
   "cell_type": "code",
   "execution_count": 8,
   "metadata": {},
   "outputs": [
    {
     "name": "stdout",
     "output_type": "stream",
     "text": [
      "num_ad_mouth =  4\n"
     ]
    }
   ],
   "source": [
    "ad_mouth = './Dataset/original_data/AtopicDermatitis/mouth'\n",
    "num_ad_mouth = len([name for name in os.listdir(ad_mouth) if os.path.isfile(os.path.join(ad_mouth, name))])\n",
    "print('num_ad_mouth = ', num_ad_mouth)"
   ]
  },
  {
   "cell_type": "code",
   "execution_count": 9,
   "metadata": {},
   "outputs": [
    {
     "name": "stdout",
     "output_type": "stream",
     "text": [
      "totoal_ad =  96\n"
     ]
    }
   ],
   "source": [
    "print('totoal_ad = ',num_ad_arm + num_ad_bodyskin + num_ad_ear + num_ad_eye + num_ad_hand + num_ad_leg + num_ad_mouth)"
   ]
  },
  {
   "cell_type": "code",
   "execution_count": 10,
   "metadata": {},
   "outputs": [
    {
     "name": "stdout",
     "output_type": "stream",
     "text": [
      "num_ad_arm =  41\n",
      "num_ad_bodyskin =  22\n",
      "num_ad_ear =  4\n",
      "num_ad_eye =  4\n",
      "num_ad_hand =  6\n",
      "num_ad_leg =  15\n",
      "num_ad_mouth =  4\n",
      "totoal_ad =  96\n"
     ]
    }
   ],
   "source": [
    "ad_arm = './Dataset/original_data/AtopicDermatitis/arm'\n",
    "num_ad_arm = len([name for name in os.listdir(ad_arm) if os.path.isfile(os.path.join(ad_arm, name))])\n",
    "print('num_ad_arm = ', num_ad_arm)\n",
    "\n",
    "ad_bodyskin = './Dataset/original_data/AtopicDermatitis/bodyskin'\n",
    "num_ad_bodyskin = len([name for name in os.listdir(ad_bodyskin) if os.path.isfile(os.path.join(ad_bodyskin, name))])\n",
    "print('num_ad_bodyskin = ' , num_ad_bodyskin)\n",
    "\n",
    "ad_ear = './Dataset/original_data/AtopicDermatitis/ear'\n",
    "num_ad_ear = len([name for name in os.listdir(ad_ear) if os.path.isfile(os.path.join(ad_ear, name))])\n",
    "print('num_ad_ear = ', num_ad_ear)\n",
    "\n",
    "ad_eye = './Dataset/original_data/AtopicDermatitis/eye'\n",
    "num_ad_eye = len([name for name in os.listdir(ad_eye) if os.path.isfile(os.path.join(ad_eye, name))])\n",
    "print('num_ad_eye = ', num_ad_eye)\n",
    "\n",
    "ad_hand = './Dataset/original_data/AtopicDermatitis/hand'\n",
    "num_ad_hand = len([name for name in os.listdir(ad_hand) if os.path.isfile(os.path.join(ad_hand, name))])\n",
    "print('num_ad_hand = ', num_ad_hand)\n",
    "\n",
    "ad_leg = './Dataset/original_data/AtopicDermatitis/leg'\n",
    "num_ad_leg = len([name for name in os.listdir(ad_leg) if os.path.isfile(os.path.join(ad_leg, name))]) \n",
    "print('num_ad_leg = ', num_ad_leg)\n",
    "\n",
    "ad_mouth = './Dataset/original_data/AtopicDermatitis/mouth'\n",
    "num_ad_mouth = len([name for name in os.listdir(ad_mouth) if os.path.isfile(os.path.join(ad_mouth, name))])\n",
    "print('num_ad_mouth = ', num_ad_mouth)\n",
    "\n",
    "\n",
    "print('totoal_ad = ',num_ad_arm + num_ad_bodyskin + num_ad_ear + num_ad_eye + num_ad_hand + num_ad_leg + num_ad_mouth)"
   ]
  }
 ],
 "metadata": {
  "kernelspec": {
   "display_name": "Python 3",
   "language": "python",
   "name": "python3"
  },
  "language_info": {
   "codemirror_mode": {
    "name": "ipython",
    "version": 3
   },
   "file_extension": ".py",
   "mimetype": "text/x-python",
   "name": "python",
   "nbconvert_exporter": "python",
   "pygments_lexer": "ipython3",
   "version": "3.7.4"
  }
 },
 "nbformat": 4,
 "nbformat_minor": 4
}
