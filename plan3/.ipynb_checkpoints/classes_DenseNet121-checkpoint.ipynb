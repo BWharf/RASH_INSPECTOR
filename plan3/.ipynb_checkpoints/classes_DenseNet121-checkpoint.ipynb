{
 "cells": [
  {
   "cell_type": "code",
   "execution_count": 1,
   "metadata": {
    "colab": {
     "base_uri": "https://localhost:8080/",
     "height": 80
    },
    "colab_type": "code",
    "executionInfo": {
     "elapsed": 3080,
     "status": "ok",
     "timestamp": 1572754665626,
     "user": {
      "displayName": "Waranthorn Chansawang",
      "photoUrl": "https://lh3.googleusercontent.com/a-/AAuE7mC5AaeRwBXV86OAR34mJOUv3ByFfsIuUaUWUzI8=s64",
      "userId": "14886059581936505938"
     },
     "user_tz": -420
    },
    "id": "Ii67P5r_dUWz",
    "outputId": "3ef319fb-f473-4977-cfe9-779ea12ba532"
   },
   "outputs": [
    {
     "name": "stderr",
     "output_type": "stream",
     "text": [
      "Using TensorFlow backend.\n"
     ]
    },
    {
     "data": {
      "text/html": [
       "<p style=\"color: red;\">\n",
       "The default version of TensorFlow in Colab will soon switch to TensorFlow 2.x.<br>\n",
       "We recommend you <a href=\"https://www.tensorflow.org/guide/migrate\" target=\"_blank\">upgrade</a> now \n",
       "or ensure your notebook will continue to use TensorFlow 1.x via the <code>%tensorflow_version 1.x</code> magic:\n",
       "<a href=\"https://colab.research.google.com/notebooks/tensorflow_version.ipynb\" target=\"_blank\">more info</a>.</p>\n"
      ],
      "text/plain": [
       "<IPython.core.display.HTML object>"
      ]
     },
     "metadata": {
      "tags": []
     },
     "output_type": "display_data"
    }
   ],
   "source": [
    "import numpy as np\n",
    "import keras \n",
    "from keras.models import Sequential, Model\n",
    "from keras.layers.core import Dense, Dropout, Activation, Flatten\n",
    "from keras.layers.convolutional import Convolution2D, MaxPooling2D\n",
    "from keras.preprocessing.image import ImageDataGenerator\n",
    "from sklearn.metrics import classification_report, confusion_matrix\n",
    "from keras.applications.densenet import DenseNet121\n",
    "from keras.optimizers import Adam\n",
    "from keras.callbacks import ReduceLROnPlateau, ModelCheckpoint\n",
    "import itertools\n",
    "import matplotlib.pyplot as plt"
   ]
  },
  {
   "cell_type": "code",
   "execution_count": 2,
   "metadata": {
    "colab": {
     "base_uri": "https://localhost:8080/",
     "height": 153
    },
    "colab_type": "code",
    "executionInfo": {
     "elapsed": 24905,
     "status": "ok",
     "timestamp": 1572754687464,
     "user": {
      "displayName": "Waranthorn Chansawang",
      "photoUrl": "https://lh3.googleusercontent.com/a-/AAuE7mC5AaeRwBXV86OAR34mJOUv3ByFfsIuUaUWUzI8=s64",
      "userId": "14886059581936505938"
     },
     "user_tz": -420
    },
    "id": "XJ1h2Wgddck2",
    "outputId": "bb32b432-b491-4cab-f892-9d39927b1409"
   },
   "outputs": [
    {
     "name": "stdout",
     "output_type": "stream",
     "text": [
      "Cloning into 'RASH_INSPECTOR'...\n",
      "remote: Enumerating objects: 2670, done.\u001b[K\n",
      "remote: Counting objects: 100% (2670/2670), done.\u001b[K\n",
      "remote: Compressing objects: 100% (2583/2583), done.\u001b[K\n",
      "remote: Total 19496 (delta 162), reused 2572 (delta 70), pack-reused 16826\u001b[K\n",
      "Receiving objects: 100% (19496/19496), 340.60 MiB | 34.33 MiB/s, done.\n",
      "Resolving deltas: 100% (698/698), done.\n",
      "Checking out files: 100% (6401/6401), done.\n"
     ]
    }
   ],
   "source": [
    "!git clone https://github.com/filmer2002/RASH_INSPECTOR"
   ]
  },
  {
   "cell_type": "code",
   "execution_count": 3,
   "metadata": {
    "colab": {
     "base_uri": "https://localhost:8080/",
     "height": 122
    },
    "colab_type": "code",
    "executionInfo": {
     "elapsed": 42257,
     "status": "ok",
     "timestamp": 1572754704823,
     "user": {
      "displayName": "Waranthorn Chansawang",
      "photoUrl": "https://lh3.googleusercontent.com/a-/AAuE7mC5AaeRwBXV86OAR34mJOUv3ByFfsIuUaUWUzI8=s64",
      "userId": "14886059581936505938"
     },
     "user_tz": -420
    },
    "id": "DaPMLBnPdjDb",
    "outputId": "3353d768-3241-4de6-aaec-f77d7d0dd09a"
   },
   "outputs": [
    {
     "name": "stdout",
     "output_type": "stream",
     "text": [
      "Go to this URL in a browser: https://accounts.google.com/o/oauth2/auth?client_id=947318989803-6bn6qk8qdgf4n4g3pfee6491hc0brc4i.apps.googleusercontent.com&redirect_uri=urn%3Aietf%3Awg%3Aoauth%3A2.0%3Aoob&scope=email%20https%3A%2F%2Fwww.googleapis.com%2Fauth%2Fdocs.test%20https%3A%2F%2Fwww.googleapis.com%2Fauth%2Fdrive%20https%3A%2F%2Fwww.googleapis.com%2Fauth%2Fdrive.photos.readonly%20https%3A%2F%2Fwww.googleapis.com%2Fauth%2Fpeopleapi.readonly&response_type=code\n",
      "\n",
      "Enter your authorization code:\n",
      "··········\n",
      "Mounted at /content/drive\n"
     ]
    }
   ],
   "source": [
    "from google.colab import drive\n",
    "drive.mount('/content/drive')"
   ]
  },
  {
   "cell_type": "code",
   "execution_count": null,
   "metadata": {
    "colab": {},
    "colab_type": "code",
    "id": "q06t8ZJOdmpV"
   },
   "outputs": [],
   "source": [
    "train_path = '/content/RASH_INSPECTOR/Dataset/cnn/train'\n",
    "val_path = '/content/RASH_INSPECTOR/Dataset/cnn/val'\n",
    "test_path = '/content/RASH_INSPECTOR/Dataset/cnn/test'"
   ]
  },
  {
   "cell_type": "code",
   "execution_count": null,
   "metadata": {
    "colab": {},
    "colab_type": "code",
    "id": "1Hb78RE6d26H"
   },
   "outputs": [],
   "source": [
    "image_size = 224\n",
    "epochs = 50\n",
    "batch_size = 10"
   ]
  },
  {
   "cell_type": "code",
   "execution_count": 6,
   "metadata": {
    "colab": {
     "base_uri": "https://localhost:8080/",
     "height": 68
    },
    "colab_type": "code",
    "executionInfo": {
     "elapsed": 42503,
     "status": "ok",
     "timestamp": 1572754705085,
     "user": {
      "displayName": "Waranthorn Chansawang",
      "photoUrl": "https://lh3.googleusercontent.com/a-/AAuE7mC5AaeRwBXV86OAR34mJOUv3ByFfsIuUaUWUzI8=s64",
      "userId": "14886059581936505938"
     },
     "user_tz": -420
    },
    "id": "GAOnDbAGd47-",
    "outputId": "3bcc9b43-f45c-4684-eccb-279c56772512"
   },
   "outputs": [
    {
     "name": "stdout",
     "output_type": "stream",
     "text": [
      "Found 1200 images belonging to 3 classes.\n",
      "Found 74 images belonging to 3 classes.\n",
      "Found 78 images belonging to 3 classes.\n"
     ]
    }
   ],
   "source": [
    "train_generator = ImageDataGenerator(\n",
    "    preprocessing_function= \\\n",
    "    keras.applications.densenet.preprocess_input).flow_from_directory(\n",
    "    train_path,\n",
    "    target_size=(image_size, image_size),\n",
    "    batch_size=batch_size)\n",
    "\n",
    "val_generator = ImageDataGenerator(\n",
    "    preprocessing_function= \\\n",
    "    keras.applications.densenet.preprocess_input).flow_from_directory(\n",
    "    val_path,\n",
    "    target_size=(image_size, image_size),\n",
    "    batch_size=batch_size)\n",
    "\n",
    "test_generator = ImageDataGenerator(\n",
    "    preprocessing_function= \\\n",
    "    keras.applications.densenet.preprocess_input).flow_from_directory(\n",
    "    test_path,\n",
    "    target_size=(image_size, image_size),\n",
    "    batch_size=batch_size,\n",
    "    shuffle=False)"
   ]
  },
  {
   "cell_type": "code",
   "execution_count": 7,
   "metadata": {
    "colab": {
     "base_uri": "https://localhost:8080/",
     "height": 68
    },
    "colab_type": "code",
    "executionInfo": {
     "elapsed": 42498,
     "status": "ok",
     "timestamp": 1572754705086,
     "user": {
      "displayName": "Waranthorn Chansawang",
      "photoUrl": "https://lh3.googleusercontent.com/a-/AAuE7mC5AaeRwBXV86OAR34mJOUv3ByFfsIuUaUWUzI8=s64",
      "userId": "14886059581936505938"
     },
     "user_tz": -420
    },
    "id": "oFv_w_sCd6P3",
    "outputId": "618b4f6d-4e82-420c-813d-995beb6f0061"
   },
   "outputs": [
    {
     "name": "stdout",
     "output_type": "stream",
     "text": [
      "num_train_files 1200 & num_train_classes 3\n",
      "num_val_files 74 & num_val_classes 3\n",
      "num_test_files 78 & num_test_classes 3\n"
     ]
    }
   ],
   "source": [
    "num_train_files = len(train_generator.filenames)\n",
    "num_train_classes = len(train_generator.class_indices)\n",
    "print('num_train_files', num_train_files, '&', 'num_train_classes', num_train_classes )\n",
    "\n",
    "num_val_files = len(val_generator.filenames)\n",
    "num_val_classes = len(val_generator.class_indices)\n",
    "print('num_val_files', num_val_files, '&', 'num_val_classes', num_val_classes )\n",
    "\n",
    "num_test_files = len(test_generator.filenames)\n",
    "num_test_classes = len(test_generator.class_indices)\n",
    "print('num_test_files', num_test_files, '&', 'num_test_classes', num_test_classes )"
   ]
  },
  {
   "cell_type": "code",
   "execution_count": null,
   "metadata": {
    "colab": {},
    "colab_type": "code",
    "id": "zqpagVJ6d76j"
   },
   "outputs": [],
   "source": [
    "train_steps = np.ceil(num_train_files/batch_size)\n",
    "val_steps = np.ceil(num_val_files/batch_size)"
   ]
  },
  {
   "cell_type": "code",
   "execution_count": 9,
   "metadata": {
    "colab": {
     "base_uri": "https://localhost:8080/",
     "height": 513
    },
    "colab_type": "code",
    "executionInfo": {
     "elapsed": 67927,
     "status": "ok",
     "timestamp": 1572754730528,
     "user": {
      "displayName": "Waranthorn Chansawang",
      "photoUrl": "https://lh3.googleusercontent.com/a-/AAuE7mC5AaeRwBXV86OAR34mJOUv3ByFfsIuUaUWUzI8=s64",
      "userId": "14886059581936505938"
     },
     "user_tz": -420
    },
    "id": "Z8kjv06Gd9ev",
    "outputId": "0d4cec65-4d2a-4b38-a87b-95dde499aa6d"
   },
   "outputs": [
    {
     "name": "stdout",
     "output_type": "stream",
     "text": [
      "WARNING:tensorflow:From /usr/local/lib/python3.6/dist-packages/keras/backend/tensorflow_backend.py:66: The name tf.get_default_graph is deprecated. Please use tf.compat.v1.get_default_graph instead.\n",
      "\n",
      "WARNING:tensorflow:From /usr/local/lib/python3.6/dist-packages/keras/backend/tensorflow_backend.py:541: The name tf.placeholder is deprecated. Please use tf.compat.v1.placeholder instead.\n",
      "\n",
      "WARNING:tensorflow:From /usr/local/lib/python3.6/dist-packages/keras/backend/tensorflow_backend.py:4432: The name tf.random_uniform is deprecated. Please use tf.random.uniform instead.\n",
      "\n",
      "WARNING:tensorflow:From /usr/local/lib/python3.6/dist-packages/keras/backend/tensorflow_backend.py:190: The name tf.get_default_session is deprecated. Please use tf.compat.v1.get_default_session instead.\n",
      "\n",
      "WARNING:tensorflow:From /usr/local/lib/python3.6/dist-packages/keras/backend/tensorflow_backend.py:197: The name tf.ConfigProto is deprecated. Please use tf.compat.v1.ConfigProto instead.\n",
      "\n",
      "WARNING:tensorflow:From /usr/local/lib/python3.6/dist-packages/keras/backend/tensorflow_backend.py:203: The name tf.Session is deprecated. Please use tf.compat.v1.Session instead.\n",
      "\n",
      "WARNING:tensorflow:From /usr/local/lib/python3.6/dist-packages/keras/backend/tensorflow_backend.py:207: The name tf.global_variables is deprecated. Please use tf.compat.v1.global_variables instead.\n",
      "\n",
      "WARNING:tensorflow:From /usr/local/lib/python3.6/dist-packages/keras/backend/tensorflow_backend.py:216: The name tf.is_variable_initialized is deprecated. Please use tf.compat.v1.is_variable_initialized instead.\n",
      "\n",
      "WARNING:tensorflow:From /usr/local/lib/python3.6/dist-packages/keras/backend/tensorflow_backend.py:223: The name tf.variables_initializer is deprecated. Please use tf.compat.v1.variables_initializer instead.\n",
      "\n",
      "WARNING:tensorflow:From /usr/local/lib/python3.6/dist-packages/keras/backend/tensorflow_backend.py:2041: The name tf.nn.fused_batch_norm is deprecated. Please use tf.compat.v1.nn.fused_batch_norm instead.\n",
      "\n",
      "WARNING:tensorflow:From /usr/local/lib/python3.6/dist-packages/keras/backend/tensorflow_backend.py:148: The name tf.placeholder_with_default is deprecated. Please use tf.compat.v1.placeholder_with_default instead.\n",
      "\n",
      "WARNING:tensorflow:From /usr/local/lib/python3.6/dist-packages/keras/backend/tensorflow_backend.py:4267: The name tf.nn.max_pool is deprecated. Please use tf.nn.max_pool2d instead.\n",
      "\n",
      "WARNING:tensorflow:From /usr/local/lib/python3.6/dist-packages/keras/backend/tensorflow_backend.py:4271: The name tf.nn.avg_pool is deprecated. Please use tf.nn.avg_pool2d instead.\n",
      "\n",
      "Downloading data from https://github.com/keras-team/keras-applications/releases/download/densenet/densenet121_weights_tf_dim_ordering_tf_kernels.h5\n",
      "33193984/33188688 [==============================] - 1s 0us/step\n"
     ]
    }
   ],
   "source": [
    "model = DenseNet121(weights='imagenet')"
   ]
  },
  {
   "cell_type": "code",
   "execution_count": null,
   "metadata": {
    "colab": {},
    "colab_type": "code",
    "id": "ViTUYCUSeBBe"
   },
   "outputs": [],
   "source": [
    "x = model.layers[-2].output\n",
    "predictions = Dense(num_train_classes, activation='softmax')(x)\n",
    "model = Model(inputs=model.input, outputs=predictions)"
   ]
  },
  {
   "cell_type": "code",
   "execution_count": 11,
   "metadata": {
    "colab": {
     "base_uri": "https://localhost:8080/",
     "height": 105
    },
    "colab_type": "code",
    "executionInfo": {
     "elapsed": 67912,
     "status": "ok",
     "timestamp": 1572754730530,
     "user": {
      "displayName": "Waranthorn Chansawang",
      "photoUrl": "https://lh3.googleusercontent.com/a-/AAuE7mC5AaeRwBXV86OAR34mJOUv3ByFfsIuUaUWUzI8=s64",
      "userId": "14886059581936505938"
     },
     "user_tz": -420
    },
    "id": "5CHTRwQDeGea",
    "outputId": "0011355e-6e07-4d3b-b554-f7d5da48f8cb"
   },
   "outputs": [
    {
     "name": "stdout",
     "output_type": "stream",
     "text": [
      "WARNING:tensorflow:From /usr/local/lib/python3.6/dist-packages/keras/optimizers.py:793: The name tf.train.Optimizer is deprecated. Please use tf.compat.v1.train.Optimizer instead.\n",
      "\n",
      "WARNING:tensorflow:From /usr/local/lib/python3.6/dist-packages/keras/backend/tensorflow_backend.py:3576: The name tf.log is deprecated. Please use tf.math.log instead.\n",
      "\n"
     ]
    }
   ],
   "source": [
    "model.compile(Adam(lr=0.01), \n",
    "              loss='categorical_crossentropy', \n",
    "              metrics=['accuracy'])"
   ]
  },
  {
   "cell_type": "code",
   "execution_count": null,
   "metadata": {
    "colab": {},
    "colab_type": "code",
    "id": "GINFohuxeIAr"
   },
   "outputs": [],
   "source": [
    "model_path = '/content/drive/My Drive/โครงงานผื่น/RASH_INSPECTOR/Build_Model/classes/classes_densenet121_model.h5'"
   ]
  },
  {
   "cell_type": "code",
   "execution_count": null,
   "metadata": {
    "colab": {},
    "colab_type": "code",
    "id": "p-bj0jAKeU4P"
   },
   "outputs": [],
   "source": [
    "checkpoint = ModelCheckpoint(model_path, monitor='val_acc', verbose=1,\n",
    "                             save_best_only=True, mode='max')"
   ]
  },
  {
   "cell_type": "code",
   "execution_count": null,
   "metadata": {
    "colab": {},
    "colab_type": "code",
    "id": "9l9Zoo-peWYs"
   },
   "outputs": [],
   "source": [
    "reduce_lr = ReduceLROnPlateau(monitor='val_acc', factor=0.5, patience=2,\n",
    "                              verbose=1, mode='max', min_lr=0.00001)"
   ]
  },
  {
   "cell_type": "code",
   "execution_count": null,
   "metadata": {
    "colab": {},
    "colab_type": "code",
    "id": "I6PJxkzReXsX"
   },
   "outputs": [],
   "source": [
    "log_dir = '/content/drive/My Drive/โครงงานผื่น/RASH_INSPECTOR/Build_Model/classes/tf-log/'\n",
    "tb_cb = keras.callbacks.TensorBoard(log_dir=log_dir, histogram_freq=0, batch_size=32, write_graph=True, write_grads=False, write_images=False, embeddings_freq=0, embeddings_layer_names=None, embeddings_metadata=None, embeddings_data=None, update_freq='epoch')"
   ]
  },
  {
   "cell_type": "code",
   "execution_count": null,
   "metadata": {
    "colab": {},
    "colab_type": "code",
    "id": "OaShPmmUecu6"
   },
   "outputs": [],
   "source": [
    "cb_list = [checkpoint, reduce_lr, tb_cb]"
   ]
  },
  {
   "cell_type": "code",
   "execution_count": 17,
   "metadata": {
    "colab": {
     "base_uri": "https://localhost:8080/",
     "height": 1000
    },
    "colab_type": "code",
    "executionInfo": {
     "elapsed": 2687975,
     "status": "ok",
     "timestamp": 1572757350623,
     "user": {
      "displayName": "Waranthorn Chansawang",
      "photoUrl": "https://lh3.googleusercontent.com/a-/AAuE7mC5AaeRwBXV86OAR34mJOUv3ByFfsIuUaUWUzI8=s64",
      "userId": "14886059581936505938"
     },
     "user_tz": -420
    },
    "id": "L2T7KGCped5f",
    "outputId": "cc9d0f9d-73f6-4c6a-cfc0-6dd5d5f869c3"
   },
   "outputs": [
    {
     "name": "stdout",
     "output_type": "stream",
     "text": [
      "WARNING:tensorflow:From /usr/local/lib/python3.6/dist-packages/tensorflow_core/python/ops/math_grad.py:1424: where (from tensorflow.python.ops.array_ops) is deprecated and will be removed in a future version.\n",
      "Instructions for updating:\n",
      "Use tf.where in 2.0, which has the same broadcast rule as np.where\n",
      "WARNING:tensorflow:From /usr/local/lib/python3.6/dist-packages/keras/backend/tensorflow_backend.py:1033: The name tf.assign_add is deprecated. Please use tf.compat.v1.assign_add instead.\n",
      "\n",
      "WARNING:tensorflow:From /usr/local/lib/python3.6/dist-packages/keras/backend/tensorflow_backend.py:1020: The name tf.assign is deprecated. Please use tf.compat.v1.assign instead.\n",
      "\n",
      "WARNING:tensorflow:From /usr/local/lib/python3.6/dist-packages/keras/callbacks.py:1122: The name tf.summary.merge_all is deprecated. Please use tf.compat.v1.summary.merge_all instead.\n",
      "\n",
      "WARNING:tensorflow:From /usr/local/lib/python3.6/dist-packages/keras/callbacks.py:1125: The name tf.summary.FileWriter is deprecated. Please use tf.compat.v1.summary.FileWriter instead.\n",
      "\n",
      "Epoch 1/50\n",
      "120/120 [==============================] - 81s 673ms/step - loss: 1.6204 - acc: 0.3558 - val_loss: 7.2051 - val_acc: 0.4459\n",
      "\n",
      "Epoch 00001: val_acc improved from -inf to 0.44595, saving model to /content/drive/My Drive/โครงงานผื่น/RASH_INSPECTOR/Build_Model/classes/classes_densenet121_model.h5\n",
      "WARNING:tensorflow:From /usr/local/lib/python3.6/dist-packages/keras/callbacks.py:1265: The name tf.Summary is deprecated. Please use tf.compat.v1.Summary instead.\n",
      "\n",
      "Epoch 2/50\n",
      "120/120 [==============================] - 47s 395ms/step - loss: 1.3267 - acc: 0.3533 - val_loss: 1.2810 - val_acc: 0.2973\n",
      "\n",
      "Epoch 00002: val_acc did not improve from 0.44595\n",
      "Epoch 3/50\n",
      "120/120 [==============================] - 47s 393ms/step - loss: 1.1984 - acc: 0.4158 - val_loss: 6.4310 - val_acc: 0.4054\n",
      "\n",
      "Epoch 00003: val_acc did not improve from 0.44595\n",
      "\n",
      "Epoch 00003: ReduceLROnPlateau reducing learning rate to 0.004999999888241291.\n",
      "Epoch 4/50\n",
      "120/120 [==============================] - 47s 395ms/step - loss: 1.1157 - acc: 0.4217 - val_loss: 1.1426 - val_acc: 0.4459\n",
      "\n",
      "Epoch 00004: val_acc did not improve from 0.44595\n",
      "Epoch 5/50\n",
      "120/120 [==============================] - 48s 396ms/step - loss: 1.0989 - acc: 0.4733 - val_loss: 1.0397 - val_acc: 0.4459\n",
      "\n",
      "Epoch 00005: val_acc improved from 0.44595 to 0.44595, saving model to /content/drive/My Drive/โครงงานผื่น/RASH_INSPECTOR/Build_Model/classes/classes_densenet121_model.h5\n",
      "\n",
      "Epoch 00005: ReduceLROnPlateau reducing learning rate to 0.0024999999441206455.\n",
      "Epoch 6/50\n",
      "120/120 [==============================] - 48s 399ms/step - loss: 1.0325 - acc: 0.4992 - val_loss: 0.9629 - val_acc: 0.5405\n",
      "\n",
      "Epoch 00006: val_acc improved from 0.44595 to 0.54054, saving model to /content/drive/My Drive/โครงงานผื่น/RASH_INSPECTOR/Build_Model/classes/classes_densenet121_model.h5\n",
      "Epoch 7/50\n",
      "120/120 [==============================] - 48s 398ms/step - loss: 0.9812 - acc: 0.5308 - val_loss: 2.2797 - val_acc: 0.4865\n",
      "\n",
      "Epoch 00007: val_acc did not improve from 0.54054\n",
      "Epoch 8/50\n",
      "120/120 [==============================] - 47s 396ms/step - loss: 0.9962 - acc: 0.5250 - val_loss: 1.4148 - val_acc: 0.4865\n",
      "\n",
      "Epoch 00008: val_acc did not improve from 0.54054\n",
      "\n",
      "Epoch 00008: ReduceLROnPlateau reducing learning rate to 0.0012499999720603228.\n",
      "Epoch 9/50\n",
      "120/120 [==============================] - 47s 395ms/step - loss: 0.9778 - acc: 0.5417 - val_loss: 0.9228 - val_acc: 0.6081\n",
      "\n",
      "Epoch 00009: val_acc improved from 0.54054 to 0.60811, saving model to /content/drive/My Drive/โครงงานผื่น/RASH_INSPECTOR/Build_Model/classes/classes_densenet121_model.h5\n",
      "Epoch 10/50\n",
      "120/120 [==============================] - 48s 396ms/step - loss: 0.9539 - acc: 0.5425 - val_loss: 0.9323 - val_acc: 0.6216\n",
      "\n",
      "Epoch 00010: val_acc improved from 0.60811 to 0.62162, saving model to /content/drive/My Drive/โครงงานผื่น/RASH_INSPECTOR/Build_Model/classes/classes_densenet121_model.h5\n",
      "Epoch 11/50\n",
      "120/120 [==============================] - 47s 395ms/step - loss: 0.9560 - acc: 0.5475 - val_loss: 1.1553 - val_acc: 0.5270\n",
      "\n",
      "Epoch 00011: val_acc did not improve from 0.62162\n",
      "Epoch 12/50\n",
      "120/120 [==============================] - 47s 394ms/step - loss: 0.9419 - acc: 0.5525 - val_loss: 0.9933 - val_acc: 0.6081\n",
      "\n",
      "Epoch 00012: val_acc did not improve from 0.62162\n",
      "\n",
      "Epoch 00012: ReduceLROnPlateau reducing learning rate to 0.0006249999860301614.\n",
      "Epoch 13/50\n",
      "120/120 [==============================] - 48s 397ms/step - loss: 0.9325 - acc: 0.5608 - val_loss: 0.9694 - val_acc: 0.5541\n",
      "\n",
      "Epoch 00013: val_acc did not improve from 0.62162\n",
      "Epoch 14/50\n",
      "120/120 [==============================] - 48s 399ms/step - loss: 0.9189 - acc: 0.5717 - val_loss: 1.0163 - val_acc: 0.5676\n",
      "\n",
      "Epoch 00014: val_acc did not improve from 0.62162\n",
      "\n",
      "Epoch 00014: ReduceLROnPlateau reducing learning rate to 0.0003124999930150807.\n",
      "Epoch 15/50\n",
      "120/120 [==============================] - 48s 398ms/step - loss: 0.8972 - acc: 0.5975 - val_loss: 0.9791 - val_acc: 0.5676\n",
      "\n",
      "Epoch 00015: val_acc did not improve from 0.62162\n",
      "Epoch 16/50\n",
      "120/120 [==============================] - 48s 397ms/step - loss: 0.9073 - acc: 0.5800 - val_loss: 0.9605 - val_acc: 0.5405\n",
      "\n",
      "Epoch 00016: val_acc did not improve from 0.62162\n",
      "\n",
      "Epoch 00016: ReduceLROnPlateau reducing learning rate to 0.00015624999650754035.\n",
      "Epoch 17/50\n",
      "120/120 [==============================] - 48s 396ms/step - loss: 0.8854 - acc: 0.5975 - val_loss: 0.9603 - val_acc: 0.5946\n",
      "\n",
      "Epoch 00017: val_acc did not improve from 0.62162\n",
      "Epoch 18/50\n",
      "120/120 [==============================] - 48s 397ms/step - loss: 0.8833 - acc: 0.5908 - val_loss: 0.9768 - val_acc: 0.5811\n",
      "\n",
      "Epoch 00018: val_acc did not improve from 0.62162\n",
      "\n",
      "Epoch 00018: ReduceLROnPlateau reducing learning rate to 7.812499825377017e-05.\n",
      "Epoch 19/50\n",
      "120/120 [==============================] - 47s 396ms/step - loss: 0.8784 - acc: 0.5883 - val_loss: 0.9926 - val_acc: 0.5676\n",
      "\n",
      "Epoch 00019: val_acc did not improve from 0.62162\n",
      "Epoch 20/50\n",
      "120/120 [==============================] - 48s 396ms/step - loss: 0.8678 - acc: 0.6050 - val_loss: 0.9931 - val_acc: 0.6216\n",
      "\n",
      "Epoch 00020: val_acc improved from 0.62162 to 0.62162, saving model to /content/drive/My Drive/โครงงานผื่น/RASH_INSPECTOR/Build_Model/classes/classes_densenet121_model.h5\n",
      "\n",
      "Epoch 00020: ReduceLROnPlateau reducing learning rate to 3.9062499126885086e-05.\n",
      "Epoch 21/50\n",
      "120/120 [==============================] - 48s 398ms/step - loss: 0.8841 - acc: 0.5892 - val_loss: 1.0078 - val_acc: 0.5541\n",
      "\n",
      "Epoch 00021: val_acc did not improve from 0.62162\n",
      "Epoch 22/50\n",
      "120/120 [==============================] - 47s 395ms/step - loss: 0.8831 - acc: 0.5917 - val_loss: 1.0147 - val_acc: 0.5946\n",
      "\n",
      "Epoch 00022: val_acc did not improve from 0.62162\n",
      "\n",
      "Epoch 00022: ReduceLROnPlateau reducing learning rate to 1.9531249563442543e-05.\n",
      "Epoch 23/50\n",
      "120/120 [==============================] - 47s 396ms/step - loss: 0.8698 - acc: 0.6000 - val_loss: 1.0082 - val_acc: 0.5811\n",
      "\n",
      "Epoch 00023: val_acc did not improve from 0.62162\n",
      "Epoch 24/50\n",
      "120/120 [==============================] - 47s 395ms/step - loss: 0.8852 - acc: 0.5842 - val_loss: 0.9947 - val_acc: 0.5811\n",
      "\n",
      "Epoch 00024: val_acc did not improve from 0.62162\n",
      "\n",
      "Epoch 00024: ReduceLROnPlateau reducing learning rate to 1e-05.\n",
      "Epoch 25/50\n",
      "120/120 [==============================] - 48s 396ms/step - loss: 0.8778 - acc: 0.5983 - val_loss: 1.0017 - val_acc: 0.5541\n",
      "\n",
      "Epoch 00025: val_acc did not improve from 0.62162\n",
      "Epoch 26/50\n",
      "120/120 [==============================] - 47s 396ms/step - loss: 0.8800 - acc: 0.5917 - val_loss: 1.0067 - val_acc: 0.5541\n",
      "\n",
      "Epoch 00026: val_acc did not improve from 0.62162\n",
      "Epoch 27/50\n",
      "120/120 [==============================] - 47s 394ms/step - loss: 0.8584 - acc: 0.6017 - val_loss: 1.0245 - val_acc: 0.5811\n",
      "\n",
      "Epoch 00027: val_acc did not improve from 0.62162\n",
      "Epoch 28/50\n",
      "120/120 [==============================] - 47s 393ms/step - loss: 0.8852 - acc: 0.5908 - val_loss: 1.0064 - val_acc: 0.5811\n",
      "\n",
      "Epoch 00028: val_acc did not improve from 0.62162\n",
      "Epoch 29/50\n",
      "120/120 [==============================] - 47s 394ms/step - loss: 0.8727 - acc: 0.5933 - val_loss: 1.0179 - val_acc: 0.5676\n",
      "\n",
      "Epoch 00029: val_acc did not improve from 0.62162\n",
      "Epoch 30/50\n",
      "120/120 [==============================] - 47s 395ms/step - loss: 0.8744 - acc: 0.6092 - val_loss: 1.0035 - val_acc: 0.5811\n",
      "\n",
      "Epoch 00030: val_acc did not improve from 0.62162\n",
      "Epoch 31/50\n",
      "120/120 [==============================] - 47s 395ms/step - loss: 0.8663 - acc: 0.6117 - val_loss: 1.0065 - val_acc: 0.5676\n",
      "\n",
      "Epoch 00031: val_acc did not improve from 0.62162\n",
      "Epoch 32/50\n",
      "120/120 [==============================] - 48s 397ms/step - loss: 0.8767 - acc: 0.6067 - val_loss: 1.0101 - val_acc: 0.5676\n",
      "\n",
      "Epoch 00032: val_acc did not improve from 0.62162\n",
      "Epoch 33/50\n",
      "120/120 [==============================] - 48s 397ms/step - loss: 0.8800 - acc: 0.5992 - val_loss: 1.0185 - val_acc: 0.5676\n",
      "\n",
      "Epoch 00033: val_acc did not improve from 0.62162\n",
      "Epoch 34/50\n",
      "120/120 [==============================] - 48s 400ms/step - loss: 0.8533 - acc: 0.6183 - val_loss: 1.0173 - val_acc: 0.5541\n",
      "\n",
      "Epoch 00034: val_acc did not improve from 0.62162\n",
      "Epoch 35/50\n",
      "120/120 [==============================] - 48s 398ms/step - loss: 0.8727 - acc: 0.5958 - val_loss: 1.0252 - val_acc: 0.5541\n",
      "\n",
      "Epoch 00035: val_acc did not improve from 0.62162\n",
      "Epoch 36/50\n",
      "120/120 [==============================] - 48s 399ms/step - loss: 0.8658 - acc: 0.6058 - val_loss: 1.0145 - val_acc: 0.5676\n",
      "\n",
      "Epoch 00036: val_acc did not improve from 0.62162\n",
      "Epoch 37/50\n",
      "120/120 [==============================] - 48s 401ms/step - loss: 0.8765 - acc: 0.5958 - val_loss: 1.0161 - val_acc: 0.5676\n",
      "\n",
      "Epoch 00037: val_acc did not improve from 0.62162\n",
      "Epoch 38/50\n",
      "120/120 [==============================] - 48s 400ms/step - loss: 0.8599 - acc: 0.6042 - val_loss: 1.0039 - val_acc: 0.5946\n",
      "\n",
      "Epoch 00038: val_acc did not improve from 0.62162\n",
      "Epoch 39/50\n",
      "120/120 [==============================] - 48s 400ms/step - loss: 0.8757 - acc: 0.5992 - val_loss: 1.0165 - val_acc: 0.5676\n",
      "\n",
      "Epoch 00039: val_acc did not improve from 0.62162\n",
      "Epoch 40/50\n",
      "120/120 [==============================] - 48s 401ms/step - loss: 0.8712 - acc: 0.6100 - val_loss: 1.0198 - val_acc: 0.5541\n",
      "\n",
      "Epoch 00040: val_acc did not improve from 0.62162\n",
      "Epoch 41/50\n",
      "120/120 [==============================] - 48s 403ms/step - loss: 0.8677 - acc: 0.6000 - val_loss: 1.0272 - val_acc: 0.5541\n",
      "\n",
      "Epoch 00041: val_acc did not improve from 0.62162\n",
      "Epoch 42/50\n",
      "120/120 [==============================] - 48s 402ms/step - loss: 0.8703 - acc: 0.6050 - val_loss: 1.0441 - val_acc: 0.5541\n",
      "\n",
      "Epoch 00042: val_acc did not improve from 0.62162\n",
      "Epoch 43/50\n",
      "120/120 [==============================] - 48s 399ms/step - loss: 0.8662 - acc: 0.6000 - val_loss: 1.0213 - val_acc: 0.5676\n",
      "\n",
      "Epoch 00043: val_acc did not improve from 0.62162\n",
      "Epoch 44/50\n",
      "120/120 [==============================] - 48s 398ms/step - loss: 0.8603 - acc: 0.6083 - val_loss: 1.0146 - val_acc: 0.5811\n",
      "\n",
      "Epoch 00044: val_acc did not improve from 0.62162\n",
      "Epoch 45/50\n",
      "120/120 [==============================] - 48s 399ms/step - loss: 0.8787 - acc: 0.6050 - val_loss: 1.0162 - val_acc: 0.5811\n",
      "\n",
      "Epoch 00045: val_acc did not improve from 0.62162\n",
      "Epoch 46/50\n",
      "120/120 [==============================] - 48s 398ms/step - loss: 0.8634 - acc: 0.6158 - val_loss: 1.0118 - val_acc: 0.5676\n",
      "\n",
      "Epoch 00046: val_acc did not improve from 0.62162\n",
      "Epoch 47/50\n",
      "120/120 [==============================] - 48s 398ms/step - loss: 0.8684 - acc: 0.6175 - val_loss: 1.0072 - val_acc: 0.5676\n",
      "\n",
      "Epoch 00047: val_acc did not improve from 0.62162\n",
      "Epoch 48/50\n",
      "120/120 [==============================] - 48s 398ms/step - loss: 0.8649 - acc: 0.6050 - val_loss: 1.0166 - val_acc: 0.5541\n",
      "\n",
      "Epoch 00048: val_acc did not improve from 0.62162\n",
      "Epoch 49/50\n",
      "120/120 [==============================] - 48s 399ms/step - loss: 0.8632 - acc: 0.6183 - val_loss: 1.0032 - val_acc: 0.5541\n",
      "\n",
      "Epoch 00049: val_acc did not improve from 0.62162\n",
      "Epoch 50/50\n",
      "120/120 [==============================] - 48s 400ms/step - loss: 0.8563 - acc: 0.6125 - val_loss: 1.0128 - val_acc: 0.5676\n",
      "\n",
      "Epoch 00050: val_acc did not improve from 0.62162\n"
     ]
    }
   ],
   "source": [
    "history = model.fit_generator(train_generator,\n",
    "                              steps_per_epoch=train_steps,\n",
    "                              validation_data=val_generator,\n",
    "                              validation_steps=val_steps,\n",
    "                              epochs=epochs,\n",
    "                              verbose=1,\n",
    "                              callbacks=cb_list)"
   ]
  },
  {
   "cell_type": "code",
   "execution_count": null,
   "metadata": {
    "colab": {},
    "colab_type": "code",
    "id": "-DZsWIz1efcm"
   },
   "outputs": [],
   "source": [
    "model.save_weights('/content/drive/My Drive/โครงงานผื่น/RASH_INSPECTOR/Build_Model/classes/classes_densenet121_weights.h5')"
   ]
  },
  {
   "cell_type": "code",
   "execution_count": 29,
   "metadata": {
    "colab": {
     "base_uri": "https://localhost:8080/",
     "height": 272
    },
    "colab_type": "code",
    "executionInfo": {
     "elapsed": 2824,
     "status": "ok",
     "timestamp": 1572757846154,
     "user": {
      "displayName": "Waranthorn Chansawang",
      "photoUrl": "https://lh3.googleusercontent.com/a-/AAuE7mC5AaeRwBXV86OAR34mJOUv3ByFfsIuUaUWUzI8=s64",
      "userId": "14886059581936505938"
     },
     "user_tz": -420
    },
    "id": "Cq5v92nUqEYp",
    "outputId": "dd5d9b1a-eef4-434e-99b7-820a1c7c5308"
   },
   "outputs": [
    {
     "name": "stdout",
     "output_type": "stream",
     "text": [
      "Confusion Matrix\n",
      "[[10  2  5]\n",
      " [12 10  1]\n",
      " [18  4 16]]\n",
      "Classification Report\n",
      "              precision    recall  f1-score   support\n",
      "\n",
      "          ad       0.25      0.59      0.35        17\n",
      "          cd       0.62      0.43      0.51        23\n",
      "      danger       0.73      0.42      0.53        38\n",
      "\n",
      "    accuracy                           0.46        78\n",
      "   macro avg       0.53      0.48      0.47        78\n",
      "weighted avg       0.59      0.46      0.49        78\n",
      "\n"
     ]
    }
   ],
   "source": [
    "Y_pred = model.predict_generator(test_generator, num_test_files//batch_size+1)\n",
    "y_pred = np.argmax(Y_pred, axis=1)\n",
    "print('Confusion Matrix')\n",
    "print(confusion_matrix(test_generator.classes, y_pred))\n",
    "print('Classification Report')\n",
    "classes_names = ['ad', 'cd', 'danger']\n",
    "print(classification_report(test_generator.classes, y_pred, target_names=classes_names))"
   ]
  },
  {
   "cell_type": "code",
   "execution_count": 22,
   "metadata": {
    "colab": {
     "base_uri": "https://localhost:8080/",
     "height": 51
    },
    "colab_type": "code",
    "executionInfo": {
     "elapsed": 81021,
     "status": "ok",
     "timestamp": 1572757756341,
     "user": {
      "displayName": "Waranthorn Chansawang",
      "photoUrl": "https://lh3.googleusercontent.com/a-/AAuE7mC5AaeRwBXV86OAR34mJOUv3ByFfsIuUaUWUzI8=s64",
      "userId": "14886059581936505938"
     },
     "user_tz": -420
    },
    "id": "-WJHLu2UqHOL",
    "outputId": "ef6d9bd1-c51d-4722-f19f-448ded4161ab"
   },
   "outputs": [
    {
     "name": "stdout",
     "output_type": "stream",
     "text": [
      "val_loss: 1.2652831337390802\n",
      "val_acc: 0.4615384695621637\n"
     ]
    }
   ],
   "source": [
    "model.load_weights('/content/drive/My Drive/โครงงานผื่น/RASH_INSPECTOR/Build_Model/classes/classes_densenet121_weights.h5')\n",
    "\n",
    "val_loss, val_acc = \\\n",
    "model.evaluate_generator(test_generator, \n",
    "                        steps=val_steps)\n",
    "\n",
    "print('val_loss:', val_loss)\n",
    "print('val_acc:', val_acc)"
   ]
  },
  {
   "cell_type": "code",
   "execution_count": null,
   "metadata": {
    "colab": {},
    "colab_type": "code",
    "id": "_q7IsPJ7rHQO"
   },
   "outputs": [],
   "source": [
    "test_labels = test_generator.classes"
   ]
  },
  {
   "cell_type": "code",
   "execution_count": 32,
   "metadata": {
    "colab": {
     "base_uri": "https://localhost:8080/",
     "height": 34
    },
    "colab_type": "code",
    "executionInfo": {
     "elapsed": 1896,
     "status": "ok",
     "timestamp": 1572757872039,
     "user": {
      "displayName": "Waranthorn Chansawang",
      "photoUrl": "https://lh3.googleusercontent.com/a-/AAuE7mC5AaeRwBXV86OAR34mJOUv3ByFfsIuUaUWUzI8=s64",
      "userId": "14886059581936505938"
     },
     "user_tz": -420
    },
    "id": "o_tj7yDNrI__",
    "outputId": "89f5f410-4e6e-42c5-e461-fc29cbafeb72"
   },
   "outputs": [
    {
     "name": "stdout",
     "output_type": "stream",
     "text": [
      "8/8 [==============================] - 1s 123ms/step\n"
     ]
    }
   ],
   "source": [
    "predictions = model.predict_generator(test_generator, steps=val_steps, verbose=1)"
   ]
  },
  {
   "cell_type": "code",
   "execution_count": 33,
   "metadata": {
    "colab": {
     "base_uri": "https://localhost:8080/",
     "height": 365
    },
    "colab_type": "code",
    "executionInfo": {
     "elapsed": 1295,
     "status": "ok",
     "timestamp": 1572757874610,
     "user": {
      "displayName": "Waranthorn Chansawang",
      "photoUrl": "https://lh3.googleusercontent.com/a-/AAuE7mC5AaeRwBXV86OAR34mJOUv3ByFfsIuUaUWUzI8=s64",
      "userId": "14886059581936505938"
     },
     "user_tz": -420
    },
    "id": "_6B-E0WVqSGG",
    "outputId": "311b02e9-d463-48ba-cf35-bc0513e9ec62"
   },
   "outputs": [
    {
     "name": "stdout",
     "output_type": "stream",
     "text": [
      "Confusion matrix, without normalization\n",
      "[[10  2  5]\n",
      " [12 10  1]\n",
      " [18  4 16]]\n"
     ]
    },
    {
     "data": {
      "image/png": "[encoded data removed]",
      "text/plain": [
       "<Figure size 432x288 with 2 Axes>"
      ]
     },
     "metadata": {
      "tags": []
     },
     "output_type": "display_data"
    }
   ],
   "source": [
    "def plot_confusion_matrix(cm, classes, normalize=False, title='Confusion matrix', cmap=plt.cm.Blues):\n",
    "    \"\"\"\n",
    "    This function prints and plots the confusion matrix.\n",
    "    Normalization can be applied by setting `normalize=True`.\n",
    "    \"\"\"\n",
    "    if normalize:\n",
    "        cm = cm.astype('float') / cm.sum(axis=1)[:, np.newaxis]\n",
    "        print(\"Normalized confusion matrix\")\n",
    "    else:\n",
    "        print('Confusion matrix, without normalization')\n",
    "\n",
    "    print(cm)\n",
    "\n",
    "    plt.imshow(cm, interpolation='nearest', cmap=cmap)\n",
    "    plt.title(title)\n",
    "    plt.colorbar()\n",
    "    tick_marks = np.arange(len(classes))\n",
    "    plt.xticks(tick_marks, classes, rotation=45)\n",
    "    plt.yticks(tick_marks, classes)\n",
    "\n",
    "    fmt = '.2f' if normalize else 'd'\n",
    "    thresh = cm.max() / 2.\n",
    "    for i, j in itertools.product(range(cm.shape[0]), range(cm.shape[1])):\n",
    "        plt.text(j, i, format(cm[i, j], fmt),\n",
    "                 horizontalalignment=\"center\",\n",
    "                 color=\"white\" if cm[i, j] > thresh else \"black\")\n",
    "\n",
    "    plt.ylabel('True label')\n",
    "    plt.xlabel('Predicted label')\n",
    "    plt.tight_layout()\n",
    "\n",
    "cm = confusion_matrix(test_labels, predictions.argmax(axis=1))\n",
    "\n",
    "cm_plot_labels = ['ad', 'cd', 'danger']\n",
    "\n",
    "plot_confusion_matrix(cm, cm_plot_labels)"
   ]
  },
  {
   "cell_type": "code",
   "execution_count": 34,
   "metadata": {
    "colab": {
     "base_uri": "https://localhost:8080/",
     "height": 295
    },
    "colab_type": "code",
    "executionInfo": {
     "elapsed": 1168,
     "status": "ok",
     "timestamp": 1572757912438,
     "user": {
      "displayName": "Waranthorn Chansawang",
      "photoUrl": "https://lh3.googleusercontent.com/a-/AAuE7mC5AaeRwBXV86OAR34mJOUv3ByFfsIuUaUWUzI8=s64",
      "userId": "14886059581936505938"
     },
     "user_tz": -420
    },
    "id": "AGET363ErE3c",
    "outputId": "38314b19-6180-44fc-ece6-cb1f1fcfc0bf"
   },
   "outputs": [
    {
     "data": {
      "image/png": "[encoded data removed]",
      "text/plain": [
       "<Figure size 432x288 with 1 Axes>"
      ]
     },
     "metadata": {
      "tags": []
     },
     "output_type": "display_data"
    }
   ],
   "source": [
    "plt.plot(history.history['acc'])\n",
    "plt.plot(history.history['val_acc'])\n",
    "plt.ylabel('accuracy')\n",
    "plt.xlabel('epoch')\n",
    "plt.legend(['train', 'test'], loc='upper left')\n",
    "plt.title('accuracy')\n",
    "plt.show()"
   ]
  },
  {
   "cell_type": "code",
   "execution_count": 45,
   "metadata": {
    "colab": {
     "base_uri": "https://localhost:8080/",
     "height": 867
    },
    "colab_type": "code",
    "executionInfo": {
     "elapsed": 719,
     "status": "ok",
     "timestamp": 1572760382336,
     "user": {
      "displayName": "Waranthorn Chansawang",
      "photoUrl": "https://lh3.googleusercontent.com/a-/AAuE7mC5AaeRwBXV86OAR34mJOUv3ByFfsIuUaUWUzI8=s64",
      "userId": "14886059581936505938"
     },
     "user_tz": -420
    },
    "id": "bjCctHbnzmSm",
    "outputId": "3d04f365-873b-42f1-894c-e1a789478973"
   },
   "outputs": [
    {
     "name": "stdout",
     "output_type": "stream",
     "text": [
      "0.355833340001603\n",
      "0.3533333400885264\n",
      "0.4158333376049995\n",
      "0.42166667270163694\n",
      "0.47333333970357977\n",
      "0.4991666737323006\n",
      "0.5308333398153384\n",
      "0.5250000063329935\n",
      "0.5416666723166903\n",
      "0.5425000070283811\n",
      "0.5475000051160653\n",
      "0.5525000058735411\n",
      "0.5608333398898443\n",
      "0.5716666720807553\n",
      "0.5975000058611234\n",
      "0.5800000064074993\n",
      "0.5975000066061814\n",
      "0.5908333389709394\n",
      "0.5883333380023639\n",
      "0.6050000052899123\n",
      "0.5891666704167923\n",
      "0.5916666732480128\n",
      "0.6000000054637591\n",
      "0.5841666724532842\n",
      "0.5983333376546701\n",
      "0.591666671137015\n",
      "0.6016666724036137\n",
      "0.590833339591821\n",
      "0.5933333411812782\n",
      "0.6091666710252563\n",
      "0.6116666705658038\n",
      "0.6066666708017389\n",
      "0.599166673173507\n",
      "0.618333337455988\n",
      "0.5958333407839139\n",
      "0.605833338573575\n",
      "0.5958333384245634\n",
      "0.6041666704540452\n",
      "0.5991666713108619\n",
      "0.61000000461936\n",
      "0.6000000057121118\n",
      "0.6050000036135316\n",
      "0.6000000049670537\n",
      "0.6083333378036817\n",
      "0.605000003054738\n",
      "0.6158333384742339\n",
      "0.6175000031789144\n",
      "0.6050000041723251\n",
      "0.618333338573575\n",
      "0.6125000067055225\n"
     ]
    }
   ],
   "source": [
    "#print(history.history['acc'])\n",
    "\n",
    "for i in (history.history['acc']):\n",
    "  "
   ]
  },
  {
   "cell_type": "code",
   "execution_count": 35,
   "metadata": {
    "colab": {
     "base_uri": "https://localhost:8080/",
     "height": 295
    },
    "colab_type": "code",
    "executionInfo": {
     "elapsed": 2404,
     "status": "ok",
     "timestamp": 1572757922609,
     "user": {
      "displayName": "Waranthorn Chansawang",
      "photoUrl": "https://lh3.googleusercontent.com/a-/AAuE7mC5AaeRwBXV86OAR34mJOUv3ByFfsIuUaUWUzI8=s64",
      "userId": "14886059581936505938"
     },
     "user_tz": -420
    },
    "id": "46mA0CMRrTZs",
    "outputId": "4fe7aa7d-fa03-4351-e915-d496ba0eb6ea"
   },
   "outputs": [
    {
     "data": {
      "image/png": "[encoded data removed]",
      "text/plain": [
       "<Figure size 432x288 with 1 Axes>"
      ]
     },
     "metadata": {
      "tags": []
     },
     "output_type": "display_data"
    }
   ],
   "source": [
    "plt.plot(history.history['loss'])\n",
    "plt.plot(history.history['val_loss'])\n",
    "plt.ylabel('loss')\n",
    "plt.xlabel('epoch')\n",
    "plt.legend(['train', 'test'], loc='upper left')\n",
    "plt.title('loss')\n",
    "plt.show()"
   ]
  }
 ],
 "metadata": {
  "accelerator": "GPU",
  "colab": {
   "collapsed_sections": [],
   "name": "classes_DenseNet121.ipynb",
   "provenance": []
  },
  "kernelspec": {
   "display_name": "Python 3",
   "language": "python",
   "name": "python3"
  },
  "language_info": {
   "codemirror_mode": {
    "name": "ipython",
    "version": 3
   },
   "file_extension": ".py",
   "mimetype": "text/x-python",
   "name": "python",
   "nbconvert_exporter": "python",
   "pygments_lexer": "ipython3",
   "version": "3.7.4"
  }
 },
 "nbformat": 4,
 "nbformat_minor": 4
}
