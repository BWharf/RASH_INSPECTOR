{
 "cells": [
  {
   "cell_type": "markdown",
   "metadata": {},
   "source": [
    "# Check files in ContactDermatis folder"
   ]
  },
  {
   "cell_type": "code",
   "execution_count": 1,
   "metadata": {},
   "outputs": [],
   "source": [
    "import os"
   ]
  },
  {
   "cell_type": "code",
   "execution_count": 2,
   "metadata": {},
   "outputs": [
    {
     "name": "stdout",
     "output_type": "stream",
     "text": [
      "num_cd_arm =  20\n"
     ]
    }
   ],
   "source": [
    "cd_arm = './Dataset/original_data/ContactDermatitis/arm'\n",
    "num_cd_arm = len([name for name in os.listdir(cd_arm) if os.path.isfile(os.path.join(cd_arm, name))])\n",
    "print('num_cd_arm = ', num_cd_arm)"
   ]
  },
  {
   "cell_type": "code",
   "execution_count": 3,
   "metadata": {},
   "outputs": [
    {
     "name": "stdout",
     "output_type": "stream",
     "text": [
      "num_cd_bodyskin =  57\n"
     ]
    }
   ],
   "source": [
    "cd_bodyskin = './Dataset/original_data/ContactDermatitis/bodyskin'\n",
    "num_cd_bodyskin = len([name for name in os.listdir(cd_bodyskin) if os.path.isfile(os.path.join(cd_bodyskin, name))])\n",
    "print('num_cd_bodyskin = ' , num_cd_bodyskin)"
   ]
  },
  {
   "cell_type": "code",
   "execution_count": 4,
   "metadata": {},
   "outputs": [
    {
     "name": "stdout",
     "output_type": "stream",
     "text": [
      "num_cd_ear =  4\n"
     ]
    }
   ],
   "source": [
    "cd_ear = './Dataset/original_data/ContactDermatitis/ear'\n",
    "num_cd_ear = len([name for name in os.listdir(cd_ear) if os.path.isfile(os.path.join(cd_ear, name))])\n",
    "print('num_cd_ear = ', num_cd_ear)"
   ]
  },
  {
   "cell_type": "code",
   "execution_count": 5,
   "metadata": {},
   "outputs": [
    {
     "name": "stdout",
     "output_type": "stream",
     "text": [
      "num_cd_eye =  10\n"
     ]
    }
   ],
   "source": [
    "cd_eye = './Dataset/original_data/ContactDermatitis/eye'\n",
    "num_cd_eye = len([name for name in os.listdir(cd_eye) if os.path.isfile(os.path.join(cd_eye, name))])\n",
    "print('num_cd_eye = ', num_cd_eye)"
   ]
  },
  {
   "cell_type": "code",
   "execution_count": 6,
   "metadata": {},
   "outputs": [
    {
     "name": "stdout",
     "output_type": "stream",
     "text": [
      "num_cd_hand =  11\n"
     ]
    }
   ],
   "source": [
    "cd_hand = './Dataset/original_data/ContactDermatitis/hand'\n",
    "num_cd_hand = len([name for name in os.listdir(cd_hand) if os.path.isfile(os.path.join(cd_hand, name))])\n",
    "print('num_cd_hand = ', num_cd_hand)"
   ]
  },
  {
   "cell_type": "code",
   "execution_count": 7,
   "metadata": {},
   "outputs": [
    {
     "name": "stdout",
     "output_type": "stream",
     "text": [
      "num_cd_leg =  5\n"
     ]
    }
   ],
   "source": [
    "cd_leg = './Dataset/original_data/ContactDermatitis/leg'\n",
    "num_cd_leg = len([name for name in os.listdir(cd_leg) if os.path.isfile(os.path.join(cd_leg, name))]) \n",
    "print('num_cd_leg = ', num_cd_leg)"
   ]
  },
  {
   "cell_type": "code",
   "execution_count": 8,
   "metadata": {},
   "outputs": [
    {
     "name": "stdout",
     "output_type": "stream",
     "text": [
      "num_cd_mouth =  8\n"
     ]
    }
   ],
   "source": [
    "cd_mouth = './Dataset/original_data/ContactDermatitis/mouth'\n",
    "num_cd_mouth = len([name for name in os.listdir(cd_mouth) if os.path.isfile(os.path.join(cd_mouth, name))])\n",
    "print('num_cd_mouth = ', num_cd_mouth)"
   ]
  },
  {
   "cell_type": "code",
   "execution_count": 9,
   "metadata": {},
   "outputs": [
    {
     "name": "stdout",
     "output_type": "stream",
     "text": [
      "totoal_cd =  115\n"
     ]
    }
   ],
   "source": [
    "print('totoal_cd = ',num_cd_arm + num_cd_bodyskin + num_cd_ear + num_cd_eye + num_cd_hand + num_cd_leg + num_cd_mouth)"
   ]
  },
  {
   "cell_type": "code",
   "execution_count": 10,
   "metadata": {},
   "outputs": [
    {
     "name": "stdout",
     "output_type": "stream",
     "text": [
      "num_cd_arm =  20\n",
      "num_cd_bodyskin =  57\n",
      "num_cd_ear =  4\n",
      "num_cd_eye =  10\n",
      "num_cd_hand =  11\n",
      "num_cd_leg =  5\n",
      "num_cd_mouth =  8\n",
      "totoal_cd =  115\n"
     ]
    }
   ],
   "source": [
    "cd_arm = './Dataset/original_data/ContactDermatitis/arm'\n",
    "num_cd_arm = len([name for name in os.listdir(cd_arm) if os.path.isfile(os.path.join(cd_arm, name))])\n",
    "print('num_cd_arm = ', num_cd_arm)\n",
    "\n",
    "cd_bodyskin = './Dataset/original_data/ContactDermatitis/bodyskin'\n",
    "num_cd_bodyskin = len([name for name in os.listdir(cd_bodyskin) if os.path.isfile(os.path.join(cd_bodyskin, name))])\n",
    "print('num_cd_bodyskin = ' , num_cd_bodyskin)\n",
    "\n",
    "cd_ear = './Dataset/original_data/ContactDermatitis/ear'\n",
    "num_cd_ear = len([name for name in os.listdir(cd_ear) if os.path.isfile(os.path.join(cd_ear, name))])\n",
    "print('num_cd_ear = ', num_cd_ear)\n",
    "\n",
    "cd_eye = './Dataset/original_data/ContactDermatitis/eye'\n",
    "num_cd_eye = len([name for name in os.listdir(cd_eye) if os.path.isfile(os.path.join(cd_eye, name))])\n",
    "print('num_cd_eye = ', num_cd_eye)\n",
    "\n",
    "cd_hand = './Dataset/original_data/ContactDermatitis/hand'\n",
    "num_cd_hand = len([name for name in os.listdir(cd_hand) if os.path.isfile(os.path.join(cd_hand, name))])\n",
    "print('num_cd_hand = ', num_cd_hand)\n",
    "\n",
    "cd_leg = './Dataset/original_data/ContactDermatitis/leg'\n",
    "num_cd_leg = len([name for name in os.listdir(cd_leg) if os.path.isfile(os.path.join(cd_leg, name))]) \n",
    "print('num_cd_leg = ', num_cd_leg)\n",
    "\n",
    "cd_mouth = './Dataset/original_data/ContactDermatitis/mouth'\n",
    "num_cd_mouth = len([name for name in os.listdir(cd_mouth) if os.path.isfile(os.path.join(cd_mouth, name))])\n",
    "print('num_cd_mouth = ', num_cd_mouth)\n",
    "\n",
    "\n",
    "print('totoal_cd = ',num_cd_arm + num_cd_bodyskin + num_cd_ear + num_cd_eye + num_cd_hand + num_cd_leg + num_cd_mouth)"
   ]
  }
 ],
 "metadata": {
  "kernelspec": {
   "display_name": "Python 3",
   "language": "python",
   "name": "python3"
  },
  "language_info": {
   "codemirror_mode": {
    "name": "ipython",
    "version": 3
   },
   "file_extension": ".py",
   "mimetype": "text/x-python",
   "name": "python",
   "nbconvert_exporter": "python",
   "pygments_lexer": "ipython3",
   "version": "3.7.4"
  }
 },
 "nbformat": 4,
 "nbformat_minor": 4
}
