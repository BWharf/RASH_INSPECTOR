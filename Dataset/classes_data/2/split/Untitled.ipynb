{
 "cells": [
  {
   "cell_type": "code",
   "execution_count": 8,
   "metadata": {},
   "outputs": [],
   "source": [
    "import split_folders"
   ]
  },
  {
   "cell_type": "code",
   "execution_count": 14,
   "metadata": {},
   "outputs": [
    {
     "name": "stderr",
     "output_type": "stream",
     "text": [
      "\n",
      "Copying files: 0 files [00:00, ? files/s]\u001b[A\n",
      "Copying files: 115 files [00:00, 1137.18 files/s]\u001b[A\n",
      "Copying files: 203 files [00:00, 1036.45 files/s]\u001b[A\n",
      "Copying files: 286 files [00:00, 964.06 files/s] \u001b[A\n",
      "Copying files: 361 files [00:00, 887.01 files/s]\u001b[A\n",
      "Copying files: 496 files [00:00, 878.26 files/s]\u001b[A\n"
     ]
    }
   ],
   "source": [
    "split_folders.ratio('/Users/waranthornchansawang/Desktop/RASH_INSPECTOR/Dataset/classes_data/2/Split', \n",
    "                    output='/Users/waranthornchansawang/Desktop/RASH_INSPECTOR/Dataset/classes_data/2/x', \n",
    "                    seed=1337, \n",
    "                    ratio=(0.8, 0.1, 0.1)) #train=0.8, val=0.1, test=0.1"
   ]
  },
  {
   "cell_type": "code",
   "execution_count": null,
   "metadata": {},
   "outputs": [],
   "source": []
  }
 ],
 "metadata": {
  "kernelspec": {
   "display_name": "Python 3",
   "language": "python",
   "name": "python3"
  },
  "language_info": {
   "codemirror_mode": {
    "name": "ipython",
    "version": 3
   },
   "file_extension": ".py",
   "mimetype": "text/x-python",
   "name": "python",
   "nbconvert_exporter": "python",
   "pygments_lexer": "ipython3",
   "version": "3.7.4"
  }
 },
 "nbformat": 4,
 "nbformat_minor": 2
}
